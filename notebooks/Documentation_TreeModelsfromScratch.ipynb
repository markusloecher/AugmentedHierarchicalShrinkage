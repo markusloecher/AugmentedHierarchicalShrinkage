{
 "cells": [
  {
   "cell_type": "code",
   "execution_count": 2,
   "metadata": {},
   "outputs": [],
   "source": [
    "%load_ext autoreload\n",
    "%autoreload 2"
   ]
  },
  {
   "cell_type": "markdown",
   "metadata": {},
   "source": [
    "In order to run this notebook you need to install the Augmented Hierarchical Shrinkage package. For further instructions see the `README.md` file on GitHub."
   ]
  },
  {
   "cell_type": "code",
   "execution_count": 3,
   "metadata": {},
   "outputs": [],
   "source": [
    "# Import TreeModelsfromScratch\n",
    "from TreeModelsFromScratch.DecisionTree import DecisionTree\n",
    "from TreeModelsFromScratch.RandomForest import RandomForest\n",
    "from TreeModelsFromScratch.SmoothShap import smooth_shap, GridSearchCV_scratch, cross_val_score_scratch"
   ]
  },
  {
   "cell_type": "code",
   "execution_count": 4,
   "metadata": {},
   "outputs": [],
   "source": [
    "# Import other packages\n",
    "import shap\n",
    "import numpy as np\n",
    "import pandas as pd\n",
    "from sklearn.metrics import roc_auc_score, r2_score\n",
    "from sklearn.model_selection import train_test_split\n",
    "import matplotlib.pyplot as plt\n",
    "import os"
   ]
  },
  {
   "cell_type": "markdown",
   "metadata": {},
   "source": [
    "# `TreeModelfromScratch` python module"
   ]
  },
  {
   "cell_type": "markdown",
   "metadata": {},
   "source": [
    "The `TreeModelfromScratch` python module includes algorithms for decision trees and random forests for classification and regression tasks, and tools for model selection, model evaluation, and other utilities.<br>\n",
    "The module includes two main classes: `DecisionTree` and `RandomForest`. These classes allow instantiating “regular” versions of these tree-based models without regularization. They also come with functions to apply HS and Aug HS regularization post-hoc.<br>\n",
    "This notebook includes examples on how to instantiate and train the different model versions. **Please note**, that  we only show examples for the classification model type. For regression models one simply needs to set `treetype=\"regression\"`."
   ]
  },
  {
   "cell_type": "markdown",
   "metadata": {},
   "source": [
    "## Load and clean data"
   ]
  },
  {
   "cell_type": "markdown",
   "metadata": {},
   "source": [
    "In this notebook we use the classification models and the Titanic dataset"
   ]
  },
  {
   "cell_type": "code",
   "execution_count": 5,
   "metadata": {},
   "outputs": [],
   "source": [
    "data_path = os.path.join(os.path.dirname(os.getcwd()),\"data\",\"titanic\")"
   ]
  },
  {
   "cell_type": "code",
   "execution_count": 6,
   "metadata": {},
   "outputs": [],
   "source": [
    "# Load and clean\n",
    "data = pd.read_csv(\"../raw_data/titanic/titanic_train.csv\")\n",
    "data = data[data[\"Age\"].notnull()] #filter rows which are nan\n",
    "data[\"Sex\"] = pd.get_dummies(data[\"Sex\"])[\"female\"] #dummy code sex (1==Female)"
   ]
  },
  {
   "cell_type": "code",
   "execution_count": 7,
   "metadata": {},
   "outputs": [
    {
     "data": {
      "text/html": [
       "<div>\n",
       "<style scoped>\n",
       "    .dataframe tbody tr th:only-of-type {\n",
       "        vertical-align: middle;\n",
       "    }\n",
       "\n",
       "    .dataframe tbody tr th {\n",
       "        vertical-align: top;\n",
       "    }\n",
       "\n",
       "    .dataframe thead th {\n",
       "        text-align: right;\n",
       "    }\n",
       "</style>\n",
       "<table border=\"1\" class=\"dataframe\">\n",
       "  <thead>\n",
       "    <tr style=\"text-align: right;\">\n",
       "      <th></th>\n",
       "      <th>Age</th>\n",
       "      <th>Pclass</th>\n",
       "      <th>Sex</th>\n",
       "      <th>PassengerId</th>\n",
       "    </tr>\n",
       "  </thead>\n",
       "  <tbody>\n",
       "    <tr>\n",
       "      <th>0</th>\n",
       "      <td>22.0</td>\n",
       "      <td>3</td>\n",
       "      <td>0</td>\n",
       "      <td>1</td>\n",
       "    </tr>\n",
       "    <tr>\n",
       "      <th>1</th>\n",
       "      <td>38.0</td>\n",
       "      <td>1</td>\n",
       "      <td>1</td>\n",
       "      <td>2</td>\n",
       "    </tr>\n",
       "    <tr>\n",
       "      <th>2</th>\n",
       "      <td>26.0</td>\n",
       "      <td>3</td>\n",
       "      <td>1</td>\n",
       "      <td>3</td>\n",
       "    </tr>\n",
       "    <tr>\n",
       "      <th>3</th>\n",
       "      <td>35.0</td>\n",
       "      <td>1</td>\n",
       "      <td>1</td>\n",
       "      <td>4</td>\n",
       "    </tr>\n",
       "    <tr>\n",
       "      <th>4</th>\n",
       "      <td>35.0</td>\n",
       "      <td>3</td>\n",
       "      <td>0</td>\n",
       "      <td>5</td>\n",
       "    </tr>\n",
       "    <tr>\n",
       "      <th>...</th>\n",
       "      <td>...</td>\n",
       "      <td>...</td>\n",
       "      <td>...</td>\n",
       "      <td>...</td>\n",
       "    </tr>\n",
       "    <tr>\n",
       "      <th>885</th>\n",
       "      <td>39.0</td>\n",
       "      <td>3</td>\n",
       "      <td>1</td>\n",
       "      <td>886</td>\n",
       "    </tr>\n",
       "    <tr>\n",
       "      <th>886</th>\n",
       "      <td>27.0</td>\n",
       "      <td>2</td>\n",
       "      <td>0</td>\n",
       "      <td>887</td>\n",
       "    </tr>\n",
       "    <tr>\n",
       "      <th>887</th>\n",
       "      <td>19.0</td>\n",
       "      <td>1</td>\n",
       "      <td>1</td>\n",
       "      <td>888</td>\n",
       "    </tr>\n",
       "    <tr>\n",
       "      <th>889</th>\n",
       "      <td>26.0</td>\n",
       "      <td>1</td>\n",
       "      <td>0</td>\n",
       "      <td>890</td>\n",
       "    </tr>\n",
       "    <tr>\n",
       "      <th>890</th>\n",
       "      <td>32.0</td>\n",
       "      <td>3</td>\n",
       "      <td>0</td>\n",
       "      <td>891</td>\n",
       "    </tr>\n",
       "  </tbody>\n",
       "</table>\n",
       "<p>714 rows × 4 columns</p>\n",
       "</div>"
      ],
      "text/plain": [
       "      Age  Pclass  Sex  PassengerId\n",
       "0    22.0       3    0            1\n",
       "1    38.0       1    1            2\n",
       "2    26.0       3    1            3\n",
       "3    35.0       1    1            4\n",
       "4    35.0       3    0            5\n",
       "..    ...     ...  ...          ...\n",
       "885  39.0       3    1          886\n",
       "886  27.0       2    0          887\n",
       "887  19.0       1    1          888\n",
       "889  26.0       1    0          890\n",
       "890  32.0       3    0          891\n",
       "\n",
       "[714 rows x 4 columns]"
      ]
     },
     "execution_count": 7,
     "metadata": {},
     "output_type": "execute_result"
    }
   ],
   "source": [
    "# Create X and y\n",
    "X = data[['Age', 'Pclass', 'Sex', 'PassengerId']]\n",
    "y = data[\"Survived\"].astype(\"float\")\n",
    "X"
   ]
  },
  {
   "cell_type": "code",
   "execution_count": 8,
   "metadata": {},
   "outputs": [],
   "source": [
    "# Train test split\n",
    "X_train, X_test, y_train, y_test = train_test_split(X, y, test_size=0.3, shuffle=True, random_state=42)"
   ]
  },
  {
   "cell_type": "markdown",
   "metadata": {},
   "source": [
    "## Regular RF model"
   ]
  },
  {
   "cell_type": "markdown",
   "metadata": {},
   "source": [
    "Relevant arguments for the `RandomForest` function:\n",
    "- `n_tress`: int, default=10\n",
    "    - Number of trees in the ensemble\n",
    "- `treetype` str {\"classification\", \"regression}, default=\"classification\"\n",
    "    - Model type\n",
    "- `oob_SHAP` bool, default=False\n",
    "    - If inbag and oob SHAP values should be computed during fit and stored as class attributes\n",
    "    - SHAP inbag will be stored under `model.inbag_SHAP_values`\n",
    "    - SHAP oob will be stored under `model.oob_SHAP_values`\n",
    "- `max_depth` int, default=None\n",
    "- `min_samples_split`: int, default=2\n",
    "- `min_samples_leaf`: int, default=1,\n",
    "- `n_feature`: {\"sqrt\"} or int or float, default=\"sqrt\"\n",
    "    - Similar to sklearn's `max_features`\n",
    "    - If int, then consider `n_feature` features at each split\n",
    "    - If float, then `n_feature` is a fraction and `max(1, int(n_feature * n_features_in_))` features are considered at each split\n",
    "    - If `\"sqrt\"`, then `max_features=sqrt(n_features)`\n",
    "    \n",
    "**Please note**, that the in following we only showcase the classification model type. For regression models one simply needs to set `treetype=\"regression\"`."
   ]
  },
  {
   "cell_type": "code",
   "execution_count": 9,
   "metadata": {},
   "outputs": [],
   "source": [
    "# Fit regular RF model \n",
    "rf = RandomForest(n_trees=100, treetype='classification', random_state=42)\n",
    "rf.fit(X_train, y_train)"
   ]
  },
  {
   "cell_type": "code",
   "execution_count": 10,
   "metadata": {},
   "outputs": [
    {
     "data": {
      "text/plain": [
       "0.7920902443374354"
      ]
     },
     "execution_count": 10,
     "metadata": {},
     "output_type": "execute_result"
    }
   ],
   "source": [
    "y_pred = rf.predict(X_test) #predict class\n",
    "y_pred_prob = rf.predict_proba(X_test) # Predict probabilites for class membership\n",
    "roc_auc_score(y_test, y_pred) # ROC AUC score on test set"
   ]
  },
  {
   "cell_type": "markdown",
   "metadata": {},
   "source": [
    "- The MDI for features are stored under the the class attribute `rf.feature_importances_`\n",
    "- If the model is trained using a pd.DataFrame the feature names are stored under `rf.feature_names`"
   ]
  },
  {
   "cell_type": "code",
   "execution_count": 11,
   "metadata": {},
   "outputs": [
    {
     "data": {
      "text/html": [
       "<div>\n",
       "<style scoped>\n",
       "    .dataframe tbody tr th:only-of-type {\n",
       "        vertical-align: middle;\n",
       "    }\n",
       "\n",
       "    .dataframe tbody tr th {\n",
       "        vertical-align: top;\n",
       "    }\n",
       "\n",
       "    .dataframe thead th {\n",
       "        text-align: right;\n",
       "    }\n",
       "</style>\n",
       "<table border=\"1\" class=\"dataframe\">\n",
       "  <thead>\n",
       "    <tr style=\"text-align: right;\">\n",
       "      <th></th>\n",
       "      <th>Age</th>\n",
       "      <th>Pclass</th>\n",
       "      <th>Sex</th>\n",
       "      <th>PassengerId</th>\n",
       "    </tr>\n",
       "  </thead>\n",
       "  <tbody>\n",
       "    <tr>\n",
       "      <th>0</th>\n",
       "      <td>0.233191</td>\n",
       "      <td>0.166232</td>\n",
       "      <td>0.383045</td>\n",
       "      <td>0.217532</td>\n",
       "    </tr>\n",
       "  </tbody>\n",
       "</table>\n",
       "</div>"
      ],
      "text/plain": [
       "        Age    Pclass       Sex  PassengerId\n",
       "0  0.233191  0.166232  0.383045     0.217532"
      ]
     },
     "execution_count": 11,
     "metadata": {},
     "output_type": "execute_result"
    }
   ],
   "source": [
    "# MDI p. feature\n",
    "pd.DataFrame(rf.feature_importances_.reshape(1,4), columns=rf.feature_names)"
   ]
  },
  {
   "cell_type": "markdown",
   "metadata": {},
   "source": [
    "This RF model consits of an ensemble of 100 `DecisionTree` models. These models are stored in a list under the `rf.trees` class attribute"
   ]
  },
  {
   "cell_type": "code",
   "execution_count": 13,
   "metadata": {},
   "outputs": [
    {
     "name": "stdout",
     "output_type": "stream",
     "text": [
      "<class 'TreeModelsFromScratch.DecisionTree.DecisionTree'>\n"
     ]
    }
   ],
   "source": [
    "# Access first tree model in ensemble\n",
    "dec_tree = rf.trees[0]\n",
    "print(type(dec_tree))"
   ]
  },
  {
   "cell_type": "markdown",
   "metadata": {},
   "source": [
    "### `DecisionTree` model"
   ]
  },
  {
   "cell_type": "markdown",
   "metadata": {},
   "source": [
    "The `DecisionTree` model offers various class attributes and functions to further analyze the tree model"
   ]
  },
  {
   "cell_type": "code",
   "execution_count": 14,
   "metadata": {},
   "outputs": [
    {
     "name": "stdout",
     "output_type": "stream",
     "text": [
      "Maximum depth of the fitted tree: 11\n",
      "Number of nodes in the fitted tree: 83\n"
     ]
    }
   ],
   "source": [
    "print(\"Maximum depth of the fitted tree:\", dec_tree.max_depth_)\n",
    "print(\"Number of nodes in the fitted tree:\", dec_tree.n_nodes)"
   ]
  },
  {
   "cell_type": "markdown",
   "metadata": {},
   "source": [
    "It also stores the FI calculated by MDI"
   ]
  },
  {
   "cell_type": "code",
   "execution_count": 15,
   "metadata": {},
   "outputs": [
    {
     "data": {
      "text/plain": [
       "array([0.20786565, 0.17843255, 0.43843479, 0.17526701])"
      ]
     },
     "execution_count": 15,
     "metadata": {},
     "output_type": "execute_result"
    }
   ],
   "source": [
    "dec_tree.feature_importances_"
   ]
  },
  {
   "cell_type": "code",
   "execution_count": 14,
   "metadata": {},
   "outputs": [
    {
     "data": {
      "text/plain": [
       "Index(['Age', 'Pclass', 'Sex', 'PassengerId'], dtype='object')"
      ]
     },
     "execution_count": 14,
     "metadata": {},
     "output_type": "execute_result"
    }
   ],
   "source": [
    "# Feature names in\n",
    "dec_tree.feature_names"
   ]
  },
  {
   "cell_type": "markdown",
   "metadata": {},
   "source": [
    "#### `Node` objects"
   ]
  },
  {
   "cell_type": "markdown",
   "metadata": {},
   "source": [
    "Each fitted DecisonTree model consits of many `Node` objects. These objects are stored as a list in the `dec_tree.node_list` class attribute. We can either access each node within the list or use the `dec_tree.node_id_dict` class attribute, which offers a detailed view of the most important data per node. \n",
    "\n",
    "The `node_id_dict` includes the following information: \n",
    "- \"node\": Node object\n",
    "- \"id\": node id\n",
    "- \"feature\": Feature used for splitting in the node\n",
    "- \"is_leaf_node\": Whether node is leaf node or not\n",
    "- \"threshold\": Split point for splitting feature\n",
    "- \"gini\": Impurity in this node (either Gini or MSE for regression)\n",
    "- \"samples\": Training samples in that node \n",
    "- \"value\": Predicted value in that node\n",
    "- \"value_distribution\": Distribution between class 0 and class 1 (For classification only)\n",
    "- \"prob_distribution\": ProbabilitydDistribution between class 0 and class 1 (For classification only)\n"
   ]
  },
  {
   "cell_type": "code",
   "execution_count": 62,
   "metadata": {},
   "outputs": [
    {
     "data": {
      "text/plain": [
       "{'node': <TreeModelsFromScratch.DecisionTree.Node at 0x16a435300>,\n",
       " 'id': 0,\n",
       " 'depth': 0,\n",
       " 'feature': 'Sex',\n",
       " 'is_leaf_node': False,\n",
       " 'threshold': 0.5,\n",
       " 'gini': 0.4947771294091189,\n",
       " 'samples': 499,\n",
       " 'value': 0,\n",
       " 'value_distribution': [275, 224],\n",
       " 'prob_distribution': [0.5511022044088176, 0.44889779559118237]}"
      ]
     },
     "execution_count": 62,
     "metadata": {},
     "output_type": "execute_result"
    }
   ],
   "source": [
    "# Examine first node (root node)\n",
    "dec_tree.node_id_dict.get(0) # The keys in the dict are the corresponding node id"
   ]
  },
  {
   "cell_type": "code",
   "execution_count": 16,
   "metadata": {},
   "outputs": [
    {
     "data": {
      "text/plain": [
       "<TreeModelsFromScratch.DecisionTree.Node at 0x157998130>"
      ]
     },
     "execution_count": 16,
     "metadata": {},
     "output_type": "execute_result"
    }
   ],
   "source": [
    "# Example of 1st entry in ode list (root node)\n",
    "dec_tree.node_list[0]"
   ]
  },
  {
   "cell_type": "markdown",
   "metadata": {},
   "source": [
    "#### Tree Structure/ Decision paths in the tree model "
   ]
  },
  {
   "cell_type": "markdown",
   "metadata": {},
   "source": [
    "- `dec_tree.decision_paths`: List of node ids that form one branch (decision path) from root to leaf node.\n",
    "- `dec_tree.decision_paths_str`: Same as `.decision_paths` but as list of strings in more readable format\n",
    "- Next to the general overview of the tree structure we can evaluate the decision path for an individual or many observations using `dec_tree.explain_decision_path()` function which takes in one observation"
   ]
  },
  {
   "cell_type": "code",
   "execution_count": 63,
   "metadata": {},
   "outputs": [
    {
     "data": {
      "text/plain": [
       "array([[0, 1, 25, 31, 33, 34, 35],\n",
       "       [{'node_id': 0, 'feature': 'Sex', 'threshold': 0.5, 'value_observation': 0.0, 'decision': '0.0 <= 0.5 --> left'},\n",
       "        {'node_id': 1, 'feature': 'Pclass', 'threshold': 1.5, 'value_observation': 2.0, 'decision': '2.0 > 1.5 --> right'},\n",
       "        {'node_id': 25, 'feature': 'Age', 'threshold': 3.5, 'value_observation': 42.0, 'decision': '42.0 > 3.5 --> right'},\n",
       "        {'node_id': 31, 'feature': 'Age', 'threshold': 13.0, 'value_observation': 42.0, 'decision': '42.0 > 13.0 --> right'},\n",
       "        {'node_id': 33, 'feature': 'Pclass', 'threshold': 2.5, 'value_observation': 2.0, 'decision': '2.0 <= 2.5 --> left'},\n",
       "        {'node_id': 34, 'feature': 'PassengerId', 'threshold': 510.5, 'value_observation': 150.0, 'decision': '150.0 <= 510.5 --> left'},\n",
       "        {'node_id': 35, 'value': 0, 'prob_distribution': array([1., 0.])}]],\n",
       "      dtype=object)"
      ]
     },
     "execution_count": 63,
     "metadata": {},
     "output_type": "execute_result"
    }
   ],
   "source": [
    "# Explain decision path for 1st observation from test set\n",
    "dec_tree.explain_decision_path(X_test.iloc[0])"
   ]
  },
  {
   "cell_type": "code",
   "execution_count": 24,
   "metadata": {},
   "outputs": [
    {
     "data": {
      "text/plain": [
       "array([[list([0, 1, 25, 31, 33, 34, 35]),\n",
       "        list([{'node_id': 0, 'feature': 'Sex', 'threshold': 0.5, 'value_observation': 0.0, 'decision': '0.0 <= 0.5 --> left'}, {'node_id': 1, 'feature': 'Pclass', 'threshold': 1.5, 'value_observation': 2.0, 'decision': '2.0 > 1.5 --> right'}, {'node_id': 25, 'feature': 'Age', 'threshold': 3.5, 'value_observation': 42.0, 'decision': '42.0 > 3.5 --> right'}, {'node_id': 31, 'feature': 'Age', 'threshold': 13.0, 'value_observation': 42.0, 'decision': '42.0 > 13.0 --> right'}, {'node_id': 33, 'feature': 'Pclass', 'threshold': 2.5, 'value_observation': 2.0, 'decision': '2.0 <= 2.5 --> left'}, {'node_id': 34, 'feature': 'PassengerId', 'threshold': 510.5, 'value_observation': 150.0, 'decision': '150.0 <= 510.5 --> left'}, {'node_id': 35, 'value': 0, 'prob_distribution': array([1., 0.])}])],\n",
       "       [list([0, 1, 25, 26, 27]),\n",
       "        list([{'node_id': 0, 'feature': 'Sex', 'threshold': 0.5, 'value_observation': 0.0, 'decision': '0.0 <= 0.5 --> left'}, {'node_id': 1, 'feature': 'Pclass', 'threshold': 1.5, 'value_observation': 2.0, 'decision': '2.0 > 1.5 --> right'}, {'node_id': 25, 'feature': 'Age', 'threshold': 3.5, 'value_observation': 3.0, 'decision': '3.0 <= 3.5 --> left'}, {'node_id': 26, 'feature': 'Pclass', 'threshold': 2.5, 'value_observation': 2.0, 'decision': '2.0 <= 2.5 --> left'}, {'node_id': 27, 'value': 1, 'prob_distribution': array([0., 1.])}])]],\n",
       "      dtype=object)"
      ]
     },
     "execution_count": 24,
     "metadata": {},
     "output_type": "execute_result"
    }
   ],
   "source": [
    "# Explain decision path for 1st and 2nd observation from test set\n",
    "dec_tree.explain_decision_path(X_test.iloc[:2])"
   ]
  },
  {
   "cell_type": "markdown",
   "metadata": {},
   "source": [
    "## RF with HS applied"
   ]
  },
  {
   "cell_type": "markdown",
   "metadata": {},
   "source": [
    "In order to instantiate a RF model with HS applied post-hoc you need to set the following attributes:\n",
    "- `HShrinkage=True`\n",
    "- `HS_lambda=5` \n",
    "\n",
    "**Attention**: Please note, that as of now there is no function to apply HS post-hoc on a already fitted RF model. If you want to compare the impact of HS on a regular RF we recommend to instantiate both model versions with the same random seed."
   ]
  },
  {
   "cell_type": "code",
   "execution_count": 73,
   "metadata": {},
   "outputs": [
    {
     "data": {
      "text/plain": [
       "0.7881219903691814"
      ]
     },
     "execution_count": 73,
     "metadata": {},
     "output_type": "execute_result"
    }
   ],
   "source": [
    "# Instantiate and fit RF model with HS applied post-hoc\n",
    "rf_hs = RandomForest(n_trees=100, treetype='classification', HShrinkage=True, HS_lambda=5, random_state=42)\n",
    "rf_hs.fit(X_train, y_train)\n",
    "y_pred = rf_hs.predict(X_test)\n",
    "roc_auc_score(y_test, y_pred) # ROC AUC score on test set"
   ]
  },
  {
   "cell_type": "markdown",
   "metadata": {},
   "source": [
    "We can set `HS_lambda` to any number or alternatively can use GridSearch to determine the best lambda:"
   ]
  },
  {
   "cell_type": "code",
   "execution_count": 77,
   "metadata": {},
   "outputs": [
    {
     "name": "stdout",
     "output_type": "stream",
     "text": [
      "Best lambda: 10\n"
     ]
    }
   ],
   "source": [
    "cv = 3\n",
    "grid = {\"HS_lambda\":[0.1,1,10,25,50,100]} # The key of the dict has to match the attribute name in the RF model\n",
    "\n",
    "# Instantiate model and apply GridSearch to determine best lambda\n",
    "rf_hs = RandomForest(n_trees=25, treetype=\"classification\", random_state=42, HShrinkage=True)\n",
    "grid_cv_HS = GridSearchCV_scratch(rf_hs, grid, X_train, y_train, cv=cv, scoring_func=roc_auc_score) #returns fitted model and stores results as dict\n",
    "print(\"Best lambda:\", rf_hs.HS_lambda)"
   ]
  },
  {
   "cell_type": "markdown",
   "metadata": {},
   "source": [
    "By default `GridSearchCV_scratch` fits the model with the best parameter found and returns the GridCV results as dict"
   ]
  },
  {
   "cell_type": "code",
   "execution_count": 78,
   "metadata": {},
   "outputs": [
    {
     "data": {
      "text/plain": [
       "{'best_param_comb': (10,),\n",
       " 'best_test_score': 0.7945668774351381,\n",
       " 'best_test_scores': array([0.78174962, 0.81477532, 0.78717569]),\n",
       " 'mean_test_scores': array([0.78381011, 0.78259853, 0.79456688, 0.78799974, 0.78857781,\n",
       "        0.77202428]),\n",
       " 'param_combinations': [(0.1,), (1,), (10,), (25,), (50,), (100,)],\n",
       " 'cv_scores_p_split': array([[0.76282051, 0.79357374, 0.79503609],\n",
       "        [0.77077788, 0.79939071, 0.77762702],\n",
       "        [0.78174962, 0.81477532, 0.78717569],\n",
       "        [0.81382488, 0.76175088, 0.78842346],\n",
       "        [0.74411488, 0.82757092, 0.79404762],\n",
       "        [0.75279823, 0.77463823, 0.78863636]])}"
      ]
     },
     "execution_count": 78,
     "metadata": {},
     "output_type": "execute_result"
    }
   ],
   "source": [
    "# GridSearchCV_scratch returns fitted model and stores results as dict\n",
    "grid_cv_HS"
   ]
  },
  {
   "cell_type": "markdown",
   "metadata": {},
   "source": [
    "## RF with AugHS smSHAP applied"
   ]
  },
  {
   "cell_type": "markdown",
   "metadata": {},
   "source": [
    "In order to instantiate a RF model with AugHS smSHAP applied post-hoc you need to set the following attributes:\n",
    "- `oob_SHAP=True`\n",
    "- `HS_smSHAP=True`\n",
    "- `HS_lambda=5` "
   ]
  },
  {
   "cell_type": "code",
   "execution_count": 84,
   "metadata": {},
   "outputs": [
    {
     "data": {
      "text/plain": [
       "0.7454967005528803"
      ]
     },
     "execution_count": 84,
     "metadata": {},
     "output_type": "execute_result"
    }
   ],
   "source": [
    "rf_aug_smSH = RandomForest(n_trees=100, treetype='classification', HS_lambda=5, oob_SHAP=True, HS_smSHAP=True, random_state=42)\n",
    "rf_aug_smSH.fit(X_train, y_train)\n",
    "y_pred = rf_aug_smSH.predict(X_test)\n",
    "roc_auc_score(y_test, y_pred) # ROC AUC score on test set"
   ]
  },
  {
   "cell_type": "markdown",
   "metadata": {},
   "source": [
    "**Attention**: Please note, that for the AugHS smSHAP version we can apply the shrinkage post-hoc on a already fitted regular RF model. But this requires, that the original RF model was fitted with `oob_SHAP=True`"
   ]
  },
  {
   "cell_type": "code",
   "execution_count": 81,
   "metadata": {},
   "outputs": [],
   "source": [
    "# Fit regular RF model\n",
    "rf = RandomForest(n_trees=100, treetype='classification', oob_SHAP=True, random_state=42)\n",
    "rf.fit(X_train, y_train)"
   ]
  },
  {
   "cell_type": "code",
   "execution_count": null,
   "metadata": {},
   "outputs": [
    {
     "data": {
      "text/plain": [
       "0.7454967005528803"
      ]
     },
     "execution_count": 82,
     "metadata": {},
     "output_type": "execute_result"
    }
   ],
   "source": [
    "# Apply AugHS smSHAP post hoc on fitted RF model \n",
    "rf.apply_smSHAP_HS(HS_lambda=5)\n",
    "y_pred = rf.predict(X_test)\n",
    "roc_auc_score(y_test, y_pred) # ROC AUC score on test set"
   ]
  },
  {
   "cell_type": "markdown",
   "metadata": {},
   "source": [
    "As we can see the post-hoc application of AugHS yields the same results as the model above"
   ]
  },
  {
   "cell_type": "markdown",
   "metadata": {},
   "source": [
    "## RF with AugHS MSE applied"
   ]
  },
  {
   "cell_type": "markdown",
   "metadata": {},
   "source": [
    "In order to instantiate a RF model with AugHS smSHAP applied post-hoc you need to set the following attributes:\n",
    "- `HS_nodewise_shrink_type=\"MSE_ratio\"`\n",
    "- `HS_lambda=5` "
   ]
  },
  {
   "cell_type": "code",
   "execution_count": 85,
   "metadata": {},
   "outputs": [
    {
     "data": {
      "text/plain": [
       "0.7848225432495095"
      ]
     },
     "execution_count": 85,
     "metadata": {},
     "output_type": "execute_result"
    }
   ],
   "source": [
    "rf_aug_mse= RandomForest(n_trees=100, treetype='classification', HS_lambda=5, HS_nodewise_shrink_type=\"MSE_ratio\", random_state=42)\n",
    "rf_aug_mse.fit(X_train, y_train)\n",
    "y_pred = rf_aug_mse.predict(X_test)\n",
    "roc_auc_score(y_test, y_pred) # ROC AUC score on test set"
   ]
  },
  {
   "cell_type": "markdown",
   "metadata": {},
   "source": [
    "**Attention**: Please note, that as of now for the AugHS MSE version we can not apply the shrinkage post-hoc on a already fitted regular RF model. Here we would use the same appraoch as for the HS models (same random seed)"
   ]
  },
  {
   "cell_type": "markdown",
   "metadata": {},
   "source": [
    "## Compute SHAP values for TreeModelFromScratch"
   ]
  },
  {
   "cell_type": "markdown",
   "metadata": {},
   "source": [
    "- The class function `model.export_forest_for_SHAP()`creates an output which is readable by SHAP.\n",
    "- To import the RF for a Single Decision Tree the class function is called `model.export_tree_for_SHAP()`.\n",
    "- After the SHAP explainer is created you can use it to create any kind of SHAP plots"
   ]
  },
  {
   "cell_type": "code",
   "execution_count": 64,
   "metadata": {},
   "outputs": [],
   "source": [
    "# Raw SHAP values of RF model \n",
    "export_model_rf = rf.export_forest_for_SHAP() \n",
    "explainer_rf = shap.TreeExplainer(export_model_rf)\n",
    "shap_vals_rf_raw = explainer_rf.shap_values(X_train, y_train)"
   ]
  },
  {
   "cell_type": "code",
   "execution_count": 65,
   "metadata": {},
   "outputs": [
    {
     "data": {
      "image/png": "[encoded data removed]",
      "text/plain": [
       "<Figure size 800x310 with 2 Axes>"
      ]
     },
     "metadata": {},
     "output_type": "display_data"
    }
   ],
   "source": [
    "# Create SHAP summary plot\n",
    "shap.summary_plot(shap_vals_rf_raw, X_train, X_train.columns, show=False)"
   ]
  },
  {
   "cell_type": "markdown",
   "metadata": {},
   "source": [
    "### Compute smooth SHAP values"
   ]
  },
  {
   "cell_type": "markdown",
   "metadata": {},
   "source": [
    "In order to calculate smooth SHAP values we need the inbag an OOB shap values. In order to get these you need to instantiate the RF model with `oob_SHAP=True`"
   ]
  },
  {
   "cell_type": "code",
   "execution_count": 66,
   "metadata": {},
   "outputs": [],
   "source": [
    "# Fit regular RF model with oob_SHAP=True\n",
    "rf = RandomForest(n_trees=100, treetype='classification', oob_SHAP=True, random_state=42)\n",
    "rf.fit(X_train, y_train)"
   ]
  },
  {
   "cell_type": "code",
   "execution_count": 67,
   "metadata": {},
   "outputs": [
    {
     "data": {
      "text/plain": [
       "array([[-0.02159054, -0.07094237, -0.19103283, -0.06940424],\n",
       "       [ 0.12524321,  0.09306224,  0.32191429, -0.04829458],\n",
       "       [ 0.03781554, -0.0807783 , -0.15097095, -0.01945284],\n",
       "       ...,\n",
       "       [-0.00772972,  0.24817447,  0.34618808,  0.01056329],\n",
       "       [-0.03057773, -0.14714212, -0.11871147, -0.0035749 ],\n",
       "       [-0.00592465, -0.07220626, -0.16254208,  0.03937141]])"
      ]
     },
     "execution_count": 67,
     "metadata": {},
     "output_type": "execute_result"
    }
   ],
   "source": [
    "# The inbag and oob SHAP values are stored as class attributes of the RF model object\n",
    "rf.inbag_SHAP_values # Inbag SHAP values\n",
    "rf.oob_SHAP_values # OOB SHAP values"
   ]
  },
  {
   "cell_type": "code",
   "execution_count": 68,
   "metadata": {},
   "outputs": [],
   "source": [
    "# Compute smooth SHAP values\n",
    "smshap_vals, abs_mean_smshap, coefs_smshap = smooth_shap(rf.inbag_SHAP_values, rf.oob_SHAP_values)"
   ]
  },
  {
   "cell_type": "code",
   "execution_count": null,
   "metadata": {},
   "outputs": [
    {
     "data": {
      "text/html": [
       "<div>\n",
       "<style scoped>\n",
       "    .dataframe tbody tr th:only-of-type {\n",
       "        vertical-align: middle;\n",
       "    }\n",
       "\n",
       "    .dataframe tbody tr th {\n",
       "        vertical-align: top;\n",
       "    }\n",
       "\n",
       "    .dataframe thead th {\n",
       "        text-align: right;\n",
       "    }\n",
       "</style>\n",
       "<table border=\"1\" class=\"dataframe\">\n",
       "  <thead>\n",
       "    <tr style=\"text-align: right;\">\n",
       "      <th></th>\n",
       "      <th>Age</th>\n",
       "      <th>Pclass</th>\n",
       "      <th>Sex</th>\n",
       "      <th>PassengerId</th>\n",
       "    </tr>\n",
       "  </thead>\n",
       "  <tbody>\n",
       "    <tr>\n",
       "      <th>0</th>\n",
       "      <td>0.61567</td>\n",
       "      <td>0.923729</td>\n",
       "      <td>0.983575</td>\n",
       "      <td>0.102725</td>\n",
       "    </tr>\n",
       "  </tbody>\n",
       "</table>\n",
       "</div>"
      ],
      "text/plain": [
       "       Age    Pclass       Sex  PassengerId\n",
       "0  0.61567  0.923729  0.983575     0.102725"
      ]
     },
     "metadata": {},
     "output_type": "display_data"
    }
   ],
   "source": [
    "# Smooth SHAP coefficient for each feature\n",
    "pd.DataFrame(np.array([coefs_smshap]), columns=X_train.columns)"
   ]
  }
 ],
 "metadata": {
  "kernelspec": {
   "display_name": "Python 3 (ipykernel)",
   "language": "python",
   "name": "python3"
  },
  "language_info": {
   "codemirror_mode": {
    "name": "ipython",
    "version": 3
   },
   "file_extension": ".py",
   "mimetype": "text/x-python",
   "name": "python",
   "nbconvert_exporter": "python",
   "pygments_lexer": "ipython3",
   "version": "3.9.0"
  },
  "toc": {
   "base_numbering": 1,
   "nav_menu": {},
   "number_sections": true,
   "sideBar": true,
   "skip_h1_title": false,
   "title_cell": "Table of Contents",
   "title_sidebar": "Contents",
   "toc_cell": false,
   "toc_position": {},
   "toc_section_display": true,
   "toc_window_display": false
  },
  "vscode": {
   "interpreter": {
    "hash": "b4de2a7d357b14f0fbb01d82892792068c7f97d04de6afc4c9ee8f432f9b64fe"
   }
  }
 },
 "nbformat": 4,
 "nbformat_minor": 2
}
