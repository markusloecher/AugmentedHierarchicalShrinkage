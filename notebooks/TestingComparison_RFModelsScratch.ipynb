{
 "cells": [
  {
   "cell_type": "code",
   "execution_count": 1,
   "id": "ef45cd6a",
   "metadata": {},
   "outputs": [],
   "source": [
    "%load_ext autoreload\n",
    "%autoreload 2"
   ]
  },
  {
   "cell_type": "code",
   "execution_count": 2,
   "id": "6be38de0",
   "metadata": {},
   "outputs": [],
   "source": [
    "#Import Tree Models from scratch functions\n",
    "import sys\n",
    "import os\n",
    "\n",
    "module_path = os.path.abspath(os.path.join('..'))\n",
    "if module_path not in sys.path:\n",
    "    sys.path.append(module_path+\"/TreeModelsFromScratch\")\n",
    "\n",
    "from DecisionTree import DecisionTree\n",
    "from RandomForest import RandomForest"
   ]
  },
  {
   "cell_type": "code",
   "execution_count": 6,
   "id": "9b314dd5",
   "metadata": {},
   "outputs": [],
   "source": [
    "import numpy as np\n",
    "import pandas as pd\n",
    "from sklearn.tree import DecisionTreeClassifier, DecisionTreeRegressor, plot_tree\n",
    "from sklearn.ensemble import RandomForestClassifier, RandomForestRegressor\n",
    "from sklearn import datasets\n",
    "from sklearn.model_selection import train_test_split\n",
    "from imodels import HSTreeClassifier, HSTreeRegressor\n",
    "from sklearn.metrics import mean_squared_error, accuracy_score\n",
    "import matplotlib.pyplot as plt"
   ]
  },
  {
   "cell_type": "markdown",
   "id": "b0fb641c",
   "metadata": {},
   "source": [
    "# Random Forest models"
   ]
  },
  {
   "cell_type": "markdown",
   "id": "9eb4903d",
   "metadata": {},
   "source": [
    "## Regression"
   ]
  },
  {
   "cell_type": "code",
   "execution_count": 247,
   "id": "cdb3406f",
   "metadata": {},
   "outputs": [],
   "source": [
    "X_r, y_r = datasets.load_diabetes(return_X_y=True, as_frame=True)\n",
    "\n",
    "# Train test split\n",
    "X_r_train, X_r_test, y_r_train, y_r_test = train_test_split(X_r, y_r, test_size=0.2, random_state=42)"
   ]
  },
  {
   "cell_type": "markdown",
   "id": "9fa26fa6",
   "metadata": {},
   "source": [
    "### Vanilla sklearn"
   ]
  },
  {
   "cell_type": "code",
   "execution_count": 242,
   "id": "d578b49d",
   "metadata": {},
   "outputs": [],
   "source": [
    "n_estimators = 1"
   ]
  },
  {
   "cell_type": "code",
   "execution_count": 467,
   "id": "34d16e97",
   "metadata": {
    "scrolled": true
   },
   "outputs": [
    {
     "data": {
      "text/html": [
       "<style>#sk-container-id-29 {color: black;background-color: white;}#sk-container-id-29 pre{padding: 0;}#sk-container-id-29 div.sk-toggleable {background-color: white;}#sk-container-id-29 label.sk-toggleable__label {cursor: pointer;display: block;width: 100%;margin-bottom: 0;padding: 0.3em;box-sizing: border-box;text-align: center;}#sk-container-id-29 label.sk-toggleable__label-arrow:before {content: \"▸\";float: left;margin-right: 0.25em;color: #696969;}#sk-container-id-29 label.sk-toggleable__label-arrow:hover:before {color: black;}#sk-container-id-29 div.sk-estimator:hover label.sk-toggleable__label-arrow:before {color: black;}#sk-container-id-29 div.sk-toggleable__content {max-height: 0;max-width: 0;overflow: hidden;text-align: left;background-color: #f0f8ff;}#sk-container-id-29 div.sk-toggleable__content pre {margin: 0.2em;color: black;border-radius: 0.25em;background-color: #f0f8ff;}#sk-container-id-29 input.sk-toggleable__control:checked~div.sk-toggleable__content {max-height: 200px;max-width: 100%;overflow: auto;}#sk-container-id-29 input.sk-toggleable__control:checked~label.sk-toggleable__label-arrow:before {content: \"▾\";}#sk-container-id-29 div.sk-estimator input.sk-toggleable__control:checked~label.sk-toggleable__label {background-color: #d4ebff;}#sk-container-id-29 div.sk-label input.sk-toggleable__control:checked~label.sk-toggleable__label {background-color: #d4ebff;}#sk-container-id-29 input.sk-hidden--visually {border: 0;clip: rect(1px 1px 1px 1px);clip: rect(1px, 1px, 1px, 1px);height: 1px;margin: -1px;overflow: hidden;padding: 0;position: absolute;width: 1px;}#sk-container-id-29 div.sk-estimator {font-family: monospace;background-color: #f0f8ff;border: 1px dotted black;border-radius: 0.25em;box-sizing: border-box;margin-bottom: 0.5em;}#sk-container-id-29 div.sk-estimator:hover {background-color: #d4ebff;}#sk-container-id-29 div.sk-parallel-item::after {content: \"\";width: 100%;border-bottom: 1px solid gray;flex-grow: 1;}#sk-container-id-29 div.sk-label:hover label.sk-toggleable__label {background-color: #d4ebff;}#sk-container-id-29 div.sk-serial::before {content: \"\";position: absolute;border-left: 1px solid gray;box-sizing: border-box;top: 0;bottom: 0;left: 50%;z-index: 0;}#sk-container-id-29 div.sk-serial {display: flex;flex-direction: column;align-items: center;background-color: white;padding-right: 0.2em;padding-left: 0.2em;position: relative;}#sk-container-id-29 div.sk-item {position: relative;z-index: 1;}#sk-container-id-29 div.sk-parallel {display: flex;align-items: stretch;justify-content: center;background-color: white;position: relative;}#sk-container-id-29 div.sk-item::before, #sk-container-id-29 div.sk-parallel-item::before {content: \"\";position: absolute;border-left: 1px solid gray;box-sizing: border-box;top: 0;bottom: 0;left: 50%;z-index: -1;}#sk-container-id-29 div.sk-parallel-item {display: flex;flex-direction: column;z-index: 1;position: relative;background-color: white;}#sk-container-id-29 div.sk-parallel-item:first-child::after {align-self: flex-end;width: 50%;}#sk-container-id-29 div.sk-parallel-item:last-child::after {align-self: flex-start;width: 50%;}#sk-container-id-29 div.sk-parallel-item:only-child::after {width: 0;}#sk-container-id-29 div.sk-dashed-wrapped {border: 1px dashed gray;margin: 0 0.4em 0.5em 0.4em;box-sizing: border-box;padding-bottom: 0.4em;background-color: white;}#sk-container-id-29 div.sk-label label {font-family: monospace;font-weight: bold;display: inline-block;line-height: 1.2em;}#sk-container-id-29 div.sk-label-container {text-align: center;}#sk-container-id-29 div.sk-container {/* jupyter's `normalize.less` sets `[hidden] { display: none; }` but bootstrap.min.css set `[hidden] { display: none !important; }` so we also need the `!important` here to be able to override the default hidden behavior on the sphinx rendered scikit-learn.org. See: https://github.com/scikit-learn/scikit-learn/issues/21755 */display: inline-block !important;position: relative;}#sk-container-id-29 div.sk-text-repr-fallback {display: none;}</style><div id=\"sk-container-id-29\" class=\"sk-top-container\"><div class=\"sk-text-repr-fallback\"><pre>RandomForestRegressor(bootstrap=False, max_depth=5, max_features=None,\n",
       "                      n_estimators=1, random_state=42)</pre><b>In a Jupyter environment, please rerun this cell to show the HTML representation or trust the notebook. <br />On GitHub, the HTML representation is unable to render, please try loading this page with nbviewer.org.</b></div><div class=\"sk-container\" hidden><div class=\"sk-item\"><div class=\"sk-estimator sk-toggleable\"><input class=\"sk-toggleable__control sk-hidden--visually\" id=\"sk-estimator-id-29\" type=\"checkbox\" checked><label for=\"sk-estimator-id-29\" class=\"sk-toggleable__label sk-toggleable__label-arrow\">RandomForestRegressor</label><div class=\"sk-toggleable__content\"><pre>RandomForestRegressor(bootstrap=False, max_depth=5, max_features=None,\n",
       "                      n_estimators=1, random_state=42)</pre></div></div></div></div></div>"
      ],
      "text/plain": [
       "RandomForestRegressor(bootstrap=False, max_depth=5, max_features=None,\n",
       "                      n_estimators=1, random_state=42)"
      ]
     },
     "execution_count": 467,
     "metadata": {},
     "output_type": "execute_result"
    }
   ],
   "source": [
    "reg_sklearn = RandomForestRegressor(n_estimators=n_estimators, max_depth=5, max_features=None, bootstrap=False, random_state=42)\n",
    "reg_sklearn.fit(X_r_train, y_r_train)"
   ]
  },
  {
   "cell_type": "code",
   "execution_count": 468,
   "id": "bc8eff6b",
   "metadata": {},
   "outputs": [],
   "source": [
    "y_r_pred = reg_sklearn.predict(X_r_test)"
   ]
  },
  {
   "cell_type": "code",
   "execution_count": 469,
   "id": "1d499359",
   "metadata": {},
   "outputs": [
    {
     "data": {
      "text/plain": [
       "3952.9518415860302"
      ]
     },
     "execution_count": 469,
     "metadata": {},
     "output_type": "execute_result"
    }
   ],
   "source": [
    "rmse_sklearn = mean_squared_error(y_r_test, y_r_pred, squared=True)\n",
    "rmse_sklearn"
   ]
  },
  {
   "cell_type": "code",
   "execution_count": 470,
   "id": "5da9054e",
   "metadata": {},
   "outputs": [
    {
     "data": {
      "text/plain": [
       "1608637542"
      ]
     },
     "execution_count": 470,
     "metadata": {},
     "output_type": "execute_result"
    }
   ],
   "source": [
    "reg_sklearn.estimators_[0].random_state"
   ]
  },
  {
   "cell_type": "code",
   "execution_count": 471,
   "id": "954f29c2",
   "metadata": {},
   "outputs": [],
   "source": [
    "#_, ax = plt.subplots(figsize=(5,1.5))\n",
    "#plot_tree(reg_sklearn, feature_names=X_r_train.columns, node_ids=True, filled=True, ax=ax);"
   ]
  },
  {
   "cell_type": "code",
   "execution_count": 472,
   "id": "61fdbebe",
   "metadata": {},
   "outputs": [],
   "source": [
    "reg_sklearn.base_estimator_.random_state"
   ]
  },
  {
   "cell_type": "markdown",
   "id": "6afb1643",
   "metadata": {
    "heading_collapsed": true
   },
   "source": [
    "### Vanilla HS from imodels package"
   ]
  },
  {
   "cell_type": "code",
   "execution_count": 473,
   "id": "001da59c",
   "metadata": {
    "hidden": true
   },
   "outputs": [],
   "source": [
    "from sklearn.base import clone\n",
    "reg_sklearn_forHS = clone(reg_sklearn)"
   ]
  },
  {
   "cell_type": "code",
   "execution_count": 474,
   "id": "3088dc57",
   "metadata": {
    "hidden": true
   },
   "outputs": [
    {
     "data": {
      "text/plain": [
       "<imodels.tree.hierarchical_shrinkage.HSTreeRegressor at 0x127b07700>"
      ]
     },
     "execution_count": 474,
     "metadata": {},
     "output_type": "execute_result"
    }
   ],
   "source": [
    "reg_hs = HSTreeRegressor(reg_sklearn_forHS, reg_param=1., shrinkage_scheme_=\"node_based\")\n",
    "\n",
    "reg_hs.fit(X_r_train, y_r_train)"
   ]
  },
  {
   "cell_type": "code",
   "execution_count": 11,
   "id": "39f8ddb0",
   "metadata": {
    "hidden": true
   },
   "outputs": [],
   "source": [
    "y_r_pred_imodels = reg_hs.predict(X_r_test)"
   ]
  },
  {
   "cell_type": "code",
   "execution_count": 12,
   "id": "0e709120",
   "metadata": {
    "hidden": true
   },
   "outputs": [
    {
     "data": {
      "text/plain": [
       "3877.1962740983845"
      ]
     },
     "execution_count": 12,
     "metadata": {},
     "output_type": "execute_result"
    }
   ],
   "source": [
    "rmse_imodels = mean_squared_error(y_r_test, y_r_pred_imodels, squared=True)\n",
    "rmse_imodels"
   ]
  },
  {
   "cell_type": "code",
   "execution_count": 13,
   "id": "2c458eb4",
   "metadata": {
    "hidden": true
   },
   "outputs": [
    {
     "data": {
      "text/plain": [
       "{'reg_param': 1.0,\n",
       " 'estimator_': DecisionTreeRegressor(max_depth=2, random_state=42),\n",
       " 'shrinkage_scheme_': 'node_based'}"
      ]
     },
     "execution_count": 13,
     "metadata": {},
     "output_type": "execute_result"
    }
   ],
   "source": [
    "reg_hs.get_params()"
   ]
  },
  {
   "cell_type": "code",
   "execution_count": 14,
   "id": "202a2950",
   "metadata": {
    "hidden": true
   },
   "outputs": [
    {
     "data": {
      "image/png": "[encoded data removed]",
      "text/plain": [
       "<Figure size 1500x450 with 1 Axes>"
      ]
     },
     "metadata": {},
     "output_type": "display_data"
    }
   ],
   "source": [
    "_, ax = plt.subplots(figsize=(5,1.5))\n",
    "plot_tree(reg_hs.estimator_, feature_names=X_r_train.columns, node_ids=True, filled=True, ax=ax);"
   ]
  },
  {
   "cell_type": "markdown",
   "id": "ad6a6e78",
   "metadata": {},
   "source": [
    "### TreeModels from Scratch "
   ]
  },
  {
   "cell_type": "markdown",
   "id": "e9160d97",
   "metadata": {},
   "source": [
    "#### Without HS"
   ]
  },
  {
   "cell_type": "code",
   "execution_count": 488,
   "id": "426b3c1b",
   "metadata": {},
   "outputs": [],
   "source": [
    "# Train DecisionTree from scratch\n",
    "reg_tree = RandomForest(n_trees=n_estimators, max_depth=5, bootstrap=False, oob=False ,treetype=\"regression\", \n",
    "                        HShrinkage=False, random_state=42)\n",
    "reg_tree.fit(X_r_train, y_r_train)"
   ]
  },
  {
   "cell_type": "code",
   "execution_count": 489,
   "id": "9004344d",
   "metadata": {},
   "outputs": [],
   "source": [
    "# Predict\n",
    "y_r_pred = reg_tree.predict(X_r_test)"
   ]
  },
  {
   "cell_type": "code",
   "execution_count": 490,
   "id": "33db7288",
   "metadata": {},
   "outputs": [
    {
     "data": {
      "text/plain": [
       "3545.4104698436895"
      ]
     },
     "execution_count": 490,
     "metadata": {},
     "output_type": "execute_result"
    }
   ],
   "source": [
    "rmse_tree_scratch = mean_squared_error(y_r_test, y_r_pred, squared=True)\n",
    "rmse_tree_scratch"
   ]
  },
  {
   "cell_type": "code",
   "execution_count": 491,
   "id": "36dd76eb",
   "metadata": {},
   "outputs": [
    {
     "data": {
      "text/plain": [
       "False"
      ]
     },
     "execution_count": 491,
     "metadata": {},
     "output_type": "execute_result"
    }
   ],
   "source": [
    "rmse_tree_scratch ==rmse_sklearn"
   ]
  },
  {
   "cell_type": "code",
   "execution_count": 492,
   "id": "0c0753e9",
   "metadata": {},
   "outputs": [
    {
     "data": {
      "text/plain": [
       "3952.9518415860302"
      ]
     },
     "execution_count": 492,
     "metadata": {},
     "output_type": "execute_result"
    }
   ],
   "source": [
    "rmse_sklearn"
   ]
  },
  {
   "cell_type": "code",
   "execution_count": 493,
   "id": "9462cdd8",
   "metadata": {},
   "outputs": [
    {
     "data": {
      "text/html": [
       "<style>#sk-container-id-30 {color: black;background-color: white;}#sk-container-id-30 pre{padding: 0;}#sk-container-id-30 div.sk-toggleable {background-color: white;}#sk-container-id-30 label.sk-toggleable__label {cursor: pointer;display: block;width: 100%;margin-bottom: 0;padding: 0.3em;box-sizing: border-box;text-align: center;}#sk-container-id-30 label.sk-toggleable__label-arrow:before {content: \"▸\";float: left;margin-right: 0.25em;color: #696969;}#sk-container-id-30 label.sk-toggleable__label-arrow:hover:before {color: black;}#sk-container-id-30 div.sk-estimator:hover label.sk-toggleable__label-arrow:before {color: black;}#sk-container-id-30 div.sk-toggleable__content {max-height: 0;max-width: 0;overflow: hidden;text-align: left;background-color: #f0f8ff;}#sk-container-id-30 div.sk-toggleable__content pre {margin: 0.2em;color: black;border-radius: 0.25em;background-color: #f0f8ff;}#sk-container-id-30 input.sk-toggleable__control:checked~div.sk-toggleable__content {max-height: 200px;max-width: 100%;overflow: auto;}#sk-container-id-30 input.sk-toggleable__control:checked~label.sk-toggleable__label-arrow:before {content: \"▾\";}#sk-container-id-30 div.sk-estimator input.sk-toggleable__control:checked~label.sk-toggleable__label {background-color: #d4ebff;}#sk-container-id-30 div.sk-label input.sk-toggleable__control:checked~label.sk-toggleable__label {background-color: #d4ebff;}#sk-container-id-30 input.sk-hidden--visually {border: 0;clip: rect(1px 1px 1px 1px);clip: rect(1px, 1px, 1px, 1px);height: 1px;margin: -1px;overflow: hidden;padding: 0;position: absolute;width: 1px;}#sk-container-id-30 div.sk-estimator {font-family: monospace;background-color: #f0f8ff;border: 1px dotted black;border-radius: 0.25em;box-sizing: border-box;margin-bottom: 0.5em;}#sk-container-id-30 div.sk-estimator:hover {background-color: #d4ebff;}#sk-container-id-30 div.sk-parallel-item::after {content: \"\";width: 100%;border-bottom: 1px solid gray;flex-grow: 1;}#sk-container-id-30 div.sk-label:hover label.sk-toggleable__label {background-color: #d4ebff;}#sk-container-id-30 div.sk-serial::before {content: \"\";position: absolute;border-left: 1px solid gray;box-sizing: border-box;top: 0;bottom: 0;left: 50%;z-index: 0;}#sk-container-id-30 div.sk-serial {display: flex;flex-direction: column;align-items: center;background-color: white;padding-right: 0.2em;padding-left: 0.2em;position: relative;}#sk-container-id-30 div.sk-item {position: relative;z-index: 1;}#sk-container-id-30 div.sk-parallel {display: flex;align-items: stretch;justify-content: center;background-color: white;position: relative;}#sk-container-id-30 div.sk-item::before, #sk-container-id-30 div.sk-parallel-item::before {content: \"\";position: absolute;border-left: 1px solid gray;box-sizing: border-box;top: 0;bottom: 0;left: 50%;z-index: -1;}#sk-container-id-30 div.sk-parallel-item {display: flex;flex-direction: column;z-index: 1;position: relative;background-color: white;}#sk-container-id-30 div.sk-parallel-item:first-child::after {align-self: flex-end;width: 50%;}#sk-container-id-30 div.sk-parallel-item:last-child::after {align-self: flex-start;width: 50%;}#sk-container-id-30 div.sk-parallel-item:only-child::after {width: 0;}#sk-container-id-30 div.sk-dashed-wrapped {border: 1px dashed gray;margin: 0 0.4em 0.5em 0.4em;box-sizing: border-box;padding-bottom: 0.4em;background-color: white;}#sk-container-id-30 div.sk-label label {font-family: monospace;font-weight: bold;display: inline-block;line-height: 1.2em;}#sk-container-id-30 div.sk-label-container {text-align: center;}#sk-container-id-30 div.sk-container {/* jupyter's `normalize.less` sets `[hidden] { display: none; }` but bootstrap.min.css set `[hidden] { display: none !important; }` so we also need the `!important` here to be able to override the default hidden behavior on the sphinx rendered scikit-learn.org. See: https://github.com/scikit-learn/scikit-learn/issues/21755 */display: inline-block !important;position: relative;}#sk-container-id-30 div.sk-text-repr-fallback {display: none;}</style><div id=\"sk-container-id-30\" class=\"sk-top-container\"><div class=\"sk-text-repr-fallback\"><pre>DecisionTreeRegressor(max_depth=5, random_state=1608637542)</pre><b>In a Jupyter environment, please rerun this cell to show the HTML representation or trust the notebook. <br />On GitHub, the HTML representation is unable to render, please try loading this page with nbviewer.org.</b></div><div class=\"sk-container\" hidden><div class=\"sk-item\"><div class=\"sk-estimator sk-toggleable\"><input class=\"sk-toggleable__control sk-hidden--visually\" id=\"sk-estimator-id-30\" type=\"checkbox\" checked><label for=\"sk-estimator-id-30\" class=\"sk-toggleable__label sk-toggleable__label-arrow\">DecisionTreeRegressor</label><div class=\"sk-toggleable__content\"><pre>DecisionTreeRegressor(max_depth=5, random_state=1608637542)</pre></div></div></div></div></div>"
      ],
      "text/plain": [
       "DecisionTreeRegressor(max_depth=5, random_state=1608637542)"
      ]
     },
     "execution_count": 493,
     "metadata": {},
     "output_type": "execute_result"
    }
   ],
   "source": [
    "reg_sklearn.estimators_[0]"
   ]
  },
  {
   "cell_type": "code",
   "execution_count": 494,
   "id": "3d409961",
   "metadata": {},
   "outputs": [],
   "source": [
    "# Comparison with sklearn\n",
    "#_, ax = plt.subplots(figsize=(5,1.5))\n",
    "#plot_tree(reg_sklearn.estimators_[0], feature_names=X_r_train.columns, node_ids=True, filled=True, ax=ax);"
   ]
  },
  {
   "cell_type": "code",
   "execution_count": 495,
   "id": "79a87900",
   "metadata": {},
   "outputs": [
    {
     "data": {
      "text/plain": [
       "5"
      ]
     },
     "execution_count": 495,
     "metadata": {},
     "output_type": "execute_result"
    }
   ],
   "source": [
    "reg_sklearn.estimators_[0].tree_.max_depth"
   ]
  },
  {
   "cell_type": "code",
   "execution_count": 496,
   "id": "35b16197",
   "metadata": {
    "scrolled": true
   },
   "outputs": [
    {
     "data": {
      "text/plain": [
       "6"
      ]
     },
     "execution_count": 496,
     "metadata": {},
     "output_type": "execute_result"
    }
   ],
   "source": [
    "reg_tree.trees[0].max_depth_"
   ]
  },
  {
   "cell_type": "markdown",
   "id": "078b02c2",
   "metadata": {},
   "source": [
    "Why is the max depth different? "
   ]
  },
  {
   "cell_type": "code",
   "execution_count": 432,
   "id": "8689792d",
   "metadata": {},
   "outputs": [
    {
     "data": {
      "text/plain": [
       "array([2, 8, 8, 4, 4, 9, 2, None, 2, None, 5, None, None, 0, 2],\n",
       "      dtype=object)"
      ]
     },
     "execution_count": 432,
     "metadata": {},
     "output_type": "execute_result"
    }
   ],
   "source": [
    "#lets chekc first 10 nodes from my and the sklearn RF (1st tree)\n",
    "feature_list = np.array([node.feature for node in reg_tree.trees[0].node_list])\n",
    "feature_list[:15]"
   ]
  },
  {
   "cell_type": "code",
   "execution_count": 433,
   "id": "9efb2ae0",
   "metadata": {},
   "outputs": [
    {
     "data": {
      "text/plain": [
       "array([ 2,  8,  8,  4,  4,  9,  6, -2,  0, -2,  2, -2, -2,  0,  2],\n",
       "      dtype=int64)"
      ]
     },
     "execution_count": 433,
     "metadata": {},
     "output_type": "execute_result"
    }
   ],
   "source": [
    "reg_sklearn.estimators_[0].tree_.feature[:15]"
   ]
  },
  {
   "cell_type": "markdown",
   "id": "c79c1e33",
   "metadata": {},
   "source": [
    "In depth=7 the sklearn tree did split on feature 6 whereas my tree did split on feature 2?!"
   ]
  },
  {
   "cell_type": "code",
   "execution_count": 434,
   "id": "499daf78",
   "metadata": {},
   "outputs": [
    {
     "data": {
      "text/plain": [
       "array([0.06415327, 0.00507105, 0.42340861, 0.0663976 , 0.08421688,\n",
       "       0.03901793, 0.06292024, 0.03871116, 0.1525835 , 0.06351976])"
      ]
     },
     "execution_count": 434,
     "metadata": {},
     "output_type": "execute_result"
    }
   ],
   "source": [
    "reg_sklearn.estimators_[0].feature_importances_"
   ]
  },
  {
   "cell_type": "code",
   "execution_count": 436,
   "id": "be4267f3",
   "metadata": {},
   "outputs": [
    {
     "data": {
      "text/plain": [
       "array([0.00029727, 0.09634399, 0.26026249, 0.44149561, 0.00743165,\n",
       "       0.00005574, 0.00158542, 0.17873284, 0.01354418, 0.00025082])"
      ]
     },
     "execution_count": 436,
     "metadata": {},
     "output_type": "execute_result"
    }
   ],
   "source": [
    "np.set_printoptions(suppress=True)\n",
    "reg_tree.trees[0].feature_importances_"
   ]
  },
  {
   "cell_type": "code",
   "execution_count": null,
   "id": "5e4aae66",
   "metadata": {},
   "outputs": [],
   "source": []
  },
  {
   "cell_type": "code",
   "execution_count": null,
   "id": "fe0f6e9b",
   "metadata": {},
   "outputs": [],
   "source": []
  },
  {
   "cell_type": "code",
   "execution_count": 128,
   "id": "923f14fd",
   "metadata": {
    "collapsed": true
   },
   "outputs": [
    {
     "data": {
      "text/plain": [
       "[154.69688385269123,\n",
       " 113.28855721393035,\n",
       " 94.0,\n",
       " 91.7605633802817,\n",
       " 73.61290322580645,\n",
       " 71.55737704918033,\n",
       " 99.72727272727273,\n",
       " 88.0,\n",
       " 108.5,\n",
       " 101.0,\n",
       " 116.0,\n",
       " 71.6,\n",
       " 67.0,\n",
       " 71.0,\n",
       " 71.0,\n",
       " 71.0,\n",
       " 55.0,\n",
       " 90.0,\n",
       " 152.5,\n",
       " 137.0,\n",
       " 168.0,\n",
       " 65.36,\n",
       " 70.34285714285714,\n",
       " 66.87096774193549,\n",
       " 68.85714285714286,\n",
       " 60.857142857142854,\n",
       " 90.0,\n",
       " 56.0,\n",
       " 51.2,\n",
       " 42.0,\n",
       " 53.5,\n",
       " 55.0,\n",
       " 55.0,\n",
       " 55.0,\n",
       " 52.0,\n",
       " 80.0,\n",
       " 71.52380952380952,\n",
       " 63.0,\n",
       " 65.0,\n",
       " 59.0,\n",
       " 72.94444444444444,\n",
       " 73.47058823529412,\n",
       " 77.0,\n",
       " 72.71428571428571,\n",
       " 71.125,\n",
       " 65.0,\n",
       " 72.0,\n",
       " 72.0,\n",
       " 72.0,\n",
       " 72.0,\n",
       " 72.0,\n",
       " 74.83333333333333,\n",
       " 75.0,\n",
       " 75.0,\n",
       " 75.0,\n",
       " 74.0,\n",
       " 64.0,\n",
       " 48.333333333333336,\n",
       " 50.0,\n",
       " 45.0,\n",
       " 97.25,\n",
       " 100.0,\n",
       " 104.0,\n",
       " 98.0,\n",
       " 89.0,\n",
       " 53.733333333333334,\n",
       " 49.53846153846154,\n",
       " 56.857142857142854,\n",
       " 61.0,\n",
       " 51.333333333333336,\n",
       " 52.0,\n",
       " 51.0,\n",
       " 41.0,\n",
       " 36.333333333333336,\n",
       " 31.0,\n",
       " 39.0,\n",
       " 45.666666666666664,\n",
       " 49.0,\n",
       " 44.0,\n",
       " 81.0,\n",
       " 199.0,\n",
       " 105.825,\n",
       " 120.33333333333333,\n",
       " 150.21428571428572,\n",
       " 142.3846153846154,\n",
       " 104.0,\n",
       " 145.58333333333334,\n",
       " 138.625,\n",
       " 145.25,\n",
       " 142.0,\n",
       " 155.0,\n",
       " 132.0,\n",
       " 135.0,\n",
       " 129.0,\n",
       " 131.0,\n",
       " 127.0,\n",
       " 159.5,\n",
       " 156.0,\n",
       " 160.66666666666666,\n",
       " 162.0,\n",
       " 160.0,\n",
       " 252.0,\n",
       " 106.83870967741936,\n",
       " 80.94117647058823,\n",
       " 67.125,\n",
       " 50.8,\n",
       " 42.0,\n",
       " 53.0,\n",
       " 53.0,\n",
       " 53.0,\n",
       " 94.33333333333333,\n",
       " 79.0,\n",
       " 102.0,\n",
       " 93.22222222222223,\n",
       " 97.0,\n",
       " 97.0,\n",
       " 97.0,\n",
       " 90.2,\n",
       " 88.0,\n",
       " 91.66666666666667,\n",
       " 92.0,\n",
       " 91.0,\n",
       " 138.28571428571428,\n",
       " 113.5,\n",
       " 100.0,\n",
       " 96.0,\n",
       " 104.0,\n",
       " 140.5,\n",
       " 146.0,\n",
       " 135.0,\n",
       " 156.875,\n",
       " 173.33333333333334,\n",
       " 160.0,\n",
       " 180.0,\n",
       " 183.0,\n",
       " 177.0,\n",
       " 107.5,\n",
       " 111.0,\n",
       " 104.0,\n",
       " 87.17142857142858,\n",
       " 82.15151515151516,\n",
       " 79.78125,\n",
       " 66.85714285714286,\n",
       " 60.111111111111114,\n",
       " 51.0,\n",
       " 62.714285714285715,\n",
       " 63.8,\n",
       " 64.0,\n",
       " 63.0,\n",
       " 60.0,\n",
       " 79.0,\n",
       " 87.66666666666667,\n",
       " 88.0,\n",
       " 87.0,\n",
       " 66.0,\n",
       " 89.83333333333333,\n",
       " 115.5,\n",
       " 141.5,\n",
       " 168.0,\n",
       " 115.0,\n",
       " 102.5,\n",
       " 96.0,\n",
       " 109.0,\n",
       " 77.0,\n",
       " 60.5,\n",
       " 56.0,\n",
       " 53.0,\n",
       " 59.0,\n",
       " 65.0,\n",
       " 85.25,\n",
       " 89.33333333333333,\n",
       " 95.5,\n",
       " 94.0,\n",
       " 97.0,\n",
       " 86.25,\n",
       " 84.0,\n",
       " 87.0,\n",
       " 73.0,\n",
       " 158.0,\n",
       " 170.0,\n",
       " 253.0,\n",
       " 162.01754385964912,\n",
       " 143.75,\n",
       " 132.2058823529412,\n",
       " 111.5,\n",
       " 184.66666666666666,\n",
       " 154.0,\n",
       " 200.0,\n",
       " 99.94736842105263,\n",
       " 88.33333333333333,\n",
       " 77.33333333333333,\n",
       " 71.33333333333333,\n",
       " 74.0,\n",
       " 66.0,\n",
       " 83.33333333333333,\n",
       " 84.0,\n",
       " 83.0,\n",
       " 99.33333333333333,\n",
       " 94.0,\n",
       " 104.66666666666667,\n",
       " 102.0,\n",
       " 110.0,\n",
       " 119.85714285714286,\n",
       " 140.0,\n",
       " 151.0,\n",
       " 129.0,\n",
       " 111.8,\n",
       " 115.0,\n",
       " 107.0,\n",
       " 170.16666666666666,\n",
       " 101.0,\n",
       " 184.0,\n",
       " 193.88888888888889,\n",
       " 161.0,\n",
       " 203.28571428571428,\n",
       " 209.0,\n",
       " 199.0,\n",
       " 198.0,\n",
       " 202.0,\n",
       " 95.0,\n",
       " 209.16666666666666,\n",
       " 262.0,\n",
       " 198.6,\n",
       " 206.0,\n",
       " 187.5,\n",
       " 185.0,\n",
       " 190.0,\n",
       " 205.0,\n",
       " 138.4,\n",
       " 118.66666666666667,\n",
       " 124.0,\n",
       " 116.0,\n",
       " 168.0,\n",
       " 232.75,\n",
       " 171.0,\n",
       " 253.33333333333334,\n",
       " 248.5,\n",
       " 258.0,\n",
       " 257.0,\n",
       " 259.0,\n",
       " 239.0,\n",
       " 241.0,\n",
       " 233.0,\n",
       " 292.0,\n",
       " 209.45394736842104,\n",
       " 168.51063829787233,\n",
       " 141.06896551724137,\n",
       " 194.3,\n",
       " 135.83333333333334,\n",
       " 52.0,\n",
       " 177.75,\n",
       " 194.66666666666666,\n",
       " 210.0,\n",
       " 187.0,\n",
       " 127.0,\n",
       " 282.0,\n",
       " 259.0,\n",
       " 289.6666666666667,\n",
       " 288.0,\n",
       " 293.0,\n",
       " 113.05263157894737,\n",
       " 160.2,\n",
       " 172.0,\n",
       " 113.0,\n",
       " 96.21428571428571,\n",
       " 73.71428571428571,\n",
       " 84.0,\n",
       " 90.0,\n",
       " 78.0,\n",
       " 60.0,\n",
       " 70.0,\n",
       " 55.0,\n",
       " 118.71428571428571,\n",
       " 135.66666666666666,\n",
       " 147.0,\n",
       " 130.0,\n",
       " 129.0,\n",
       " 131.0,\n",
       " 106.0,\n",
       " 103.0,\n",
       " 109.0,\n",
       " 212.72222222222223,\n",
       " 249.22222222222223,\n",
       " 302.0,\n",
       " 242.625,\n",
       " 248.25,\n",
       " 257.0,\n",
       " 245.33333333333334,\n",
       " 246.0,\n",
       " 244.0,\n",
       " 237.0,\n",
       " 176.22222222222223,\n",
       " 186.875,\n",
       " 155.0,\n",
       " 197.5,\n",
       " 191.0,\n",
       " 198.8,\n",
       " 200.0,\n",
       " 198.0,\n",
       " 91.0,\n",
       " 227.78095238095239,\n",
       " 189.9090909090909,\n",
       " 100.55555555555556,\n",
       " 139.4,\n",
       " 137.0,\n",
       " 141.0,\n",
       " 52.0,\n",
       " 223.41666666666666,\n",
       " 298.1666666666667,\n",
       " 322.0,\n",
       " 310.0,\n",
       " 346.0,\n",
       " 274.3333333333333,\n",
       " 275.5,\n",
       " 276.0,\n",
       " 275.0,\n",
       " 272.0,\n",
       " 198.5,\n",
       " 184.375,\n",
       " 149.57142857142858,\n",
       " 189.0,\n",
       " 196.5,\n",
       " 197.0,\n",
       " 196.0,\n",
       " 174.0,\n",
       " 120.0,\n",
       " 85.0,\n",
       " 131.66666666666666,\n",
       " 142.0,\n",
       " 126.5,\n",
       " 131.0,\n",
       " 122.0,\n",
       " 211.44444444444446,\n",
       " 240.5,\n",
       " 279.0,\n",
       " 227.66666666666666,\n",
       " 233.0,\n",
       " 225.0,\n",
       " 188.2,\n",
       " 173.0,\n",
       " 192.0,\n",
       " 311.5,\n",
       " 317.0,\n",
       " 306.0,\n",
       " 245.13888888888889,\n",
       " 287.5625,\n",
       " 326.0,\n",
       " 341.0,\n",
       " 311.0,\n",
       " 274.75,\n",
       " 278.44444444444446,\n",
       " 280.3333333333333,\n",
       " 280.0,\n",
       " 281.0,\n",
       " 274.6666666666667,\n",
       " 274.0,\n",
       " 275.0,\n",
       " 263.6666666666667,\n",
       " 261.0,\n",
       " 265.0,\n",
       " 233.01785714285714,\n",
       " 173.85714285714286,\n",
       " 143.5,\n",
       " 143.0,\n",
       " 144.0,\n",
       " 186.0,\n",
       " 178.0,\n",
       " 198.0,\n",
       " 241.46938775510205,\n",
       " 244.68085106382978,\n",
       " 271.1,\n",
       " 265.5,\n",
       " 265.0,\n",
       " 268.0,\n",
       " 279.5,\n",
       " 281.0,\n",
       " 281.0,\n",
       " 281.0,\n",
       " 275.0,\n",
       " 237.54054054054055,\n",
       " 215.4,\n",
       " 180.6,\n",
       " 200.33333333333334,\n",
       " 220.0,\n",
       " 190.5,\n",
       " 195.0,\n",
       " 186.0,\n",
       " 151.0,\n",
       " 163.0,\n",
       " 139.0,\n",
       " 250.2,\n",
       " 224.0,\n",
       " 235.0,\n",
       " 202.0,\n",
       " 289.5,\n",
       " 296.0,\n",
       " 283.0,\n",
       " 245.74074074074073,\n",
       " 277.0,\n",
       " 295.0,\n",
       " 268.0,\n",
       " 241.83333333333334,\n",
       " 261.5,\n",
       " 255.75,\n",
       " 249.0,\n",
       " 258.0,\n",
       " 273.0,\n",
       " 235.27777777777777,\n",
       " 248.66666666666666,\n",
       " 243.0,\n",
       " 245.0,\n",
       " 242.5,\n",
       " 242.0,\n",
       " 243.0,\n",
       " 277.0,\n",
       " 228.58333333333334,\n",
       " 221.77777777777777,\n",
       " 217.66666666666666,\n",
       " 220.0,\n",
       " 216.5,\n",
       " 215.0,\n",
       " 217.0,\n",
       " 230.0,\n",
       " 249.0,\n",
       " 252.0,\n",
       " 243.0,\n",
       " 166.0]"
      ]
     },
     "execution_count": 128,
     "metadata": {},
     "output_type": "execute_result"
    }
   ],
   "source": [
    "# node values from scratch without HS: \n",
    "node_values_scratch = [node.value for node in reg_tree.trees[0].node_list]\n",
    "node_values_scratch"
   ]
  },
  {
   "cell_type": "code",
   "execution_count": 130,
   "id": "25e259de",
   "metadata": {},
   "outputs": [
    {
     "data": {
      "text/plain": [
       "[148.27762039660055,\n",
       " 104.49152542372882,\n",
       " 121.47272727272727,\n",
       " 75.25,\n",
       " 69.6842105263158,\n",
       " 83.3,\n",
       " 72.375,\n",
       " 68.28571428571429,\n",
       " 55.0,\n",
       " 73.6,\n",
       " 71.25,\n",
       " 71.0,\n",
       " 72.0,\n",
       " 83.0,\n",
       " 101.0,\n",
       " 127.0,\n",
       " 138.0,\n",
       " 116.0,\n",
       " 54.55555555555556,\n",
       " 45.75,\n",
       " 36.5,\n",
       " 42.0,\n",
       " 31.0,\n",
       " 55.0,\n",
       " 61.6,\n",
       " 68.0,\n",
       " 74.0,\n",
       " 65.0,\n",
       " 52.0,\n",
       " 181.0,\n",
       " 131.74444444444444,\n",
       " 171.2173913043478,\n",
       " 159.61904761904762,\n",
       " 181.63636363636363,\n",
       " 197.28571428571428,\n",
       " 184.66666666666666,\n",
       " 190.0,\n",
       " 182.0,\n",
       " 206.75,\n",
       " 214.5,\n",
       " 210.0,\n",
       " 219.0,\n",
       " 199.0,\n",
       " 154.25,\n",
       " 164.33333333333334,\n",
       " 169.0,\n",
       " 168.0,\n",
       " 170.0,\n",
       " 155.0,\n",
       " 124.0,\n",
       " 135.4,\n",
       " 140.66666666666666,\n",
       " 143.125,\n",
       " 138.2,\n",
       " 137.0,\n",
       " 140.0,\n",
       " 151.33333333333334,\n",
       " 152.0,\n",
       " 150.0,\n",
       " 121.0,\n",
       " 88.0,\n",
       " 293.0,\n",
       " 118.19402985074628,\n",
       " 114.04615384615384,\n",
       " 108.0,\n",
       " 100.17307692307692,\n",
       " 136.0909090909091,\n",
       " 78.0,\n",
       " 104.0,\n",
       " 65.0,\n",
       " 69.0,\n",
       " 61.0,\n",
       " 157.875,\n",
       " 129.0,\n",
       " 175.2,\n",
       " 192.0,\n",
       " 200.0,\n",
       " 184.0,\n",
       " 164.0,\n",
       " 172.0,\n",
       " 160.0,\n",
       " 90.53658536585365,\n",
       " 108.38461538461539,\n",
       " 82.6,\n",
       " 78.33333333333333,\n",
       " 81.0,\n",
       " 77.0,\n",
       " 89.0,\n",
       " 124.5,\n",
       " 139.0,\n",
       " 146.0,\n",
       " 132.0,\n",
       " 110.0,\n",
       " 82.25,\n",
       " 96.38461538461539,\n",
       " 118.5,\n",
       " 96.0,\n",
       " 141.0,\n",
       " 147.0,\n",
       " 135.0,\n",
       " 86.55555555555556,\n",
       " 77.0,\n",
       " 78.4,\n",
       " 78.0,\n",
       " 79.0,\n",
       " 70.0,\n",
       " 105.66666666666667,\n",
       " 109.0,\n",
       " 104.0,\n",
       " 70.0,\n",
       " 56.55555555555556,\n",
       " 72.33333333333333,\n",
       " 62.5,\n",
       " 54.0,\n",
       " 71.0,\n",
       " 92.0,\n",
       " 48.666666666666664,\n",
       " 45.0,\n",
       " 47.0,\n",
       " 44.0,\n",
       " 52.333333333333336,\n",
       " 53.0,\n",
       " 51.0,\n",
       " 90.16666666666667,\n",
       " 160.0,\n",
       " 76.2,\n",
       " 97.0,\n",
       " 71.0,\n",
       " 153.22222222222223,\n",
       " 180.6,\n",
       " 177.0,\n",
       " 183.0,\n",
       " 119.0,\n",
       " 99.0,\n",
       " 107.0,\n",
       " 91.0,\n",
       " 139.0,\n",
       " 206.25,\n",
       " 272.5,\n",
       " 288.0,\n",
       " 257.0,\n",
       " 140.0,\n",
       " 253.0,\n",
       " 76.61194029850746,\n",
       " 65.95555555555555,\n",
       " 99.0,\n",
       " 83.0,\n",
       " 89.0,\n",
       " 77.0,\n",
       " 115.0,\n",
       " 62.73170731707317,\n",
       " 67.58064516129032,\n",
       " 95.33333333333333,\n",
       " 98.0,\n",
       " 97.0,\n",
       " 99.0,\n",
       " 90.0,\n",
       " 64.60714285714286,\n",
       " 63.18518518518518,\n",
       " 56.285714285714285,\n",
       " 51.4,\n",
       " 51.0,\n",
       " 52.0,\n",
       " 59.0,\n",
       " 60.0,\n",
       " 59.0,\n",
       " 60.5,\n",
       " 60.0,\n",
       " 61.0,\n",
       " 57.0,\n",
       " 70.61538461538461,\n",
       " 39.0,\n",
       " 73.25,\n",
       " 69.5,\n",
       " 72.5,\n",
       " 75.0,\n",
       " 72.0,\n",
       " 65.0,\n",
       " 92.0,\n",
       " 87.0,\n",
       " 97.0,\n",
       " 103.0,\n",
       " 47.7,\n",
       " 39.0,\n",
       " 49.875,\n",
       " 51.6,\n",
       " 51.0,\n",
       " 52.5,\n",
       " 53.0,\n",
       " 52.0,\n",
       " 47.0,\n",
       " 98.4090909090909,\n",
       " 136.4,\n",
       " 48.0,\n",
       " 158.5,\n",
       " 118.0,\n",
       " 172.0,\n",
       " 179.0,\n",
       " 158.0,\n",
       " 87.23529411764706,\n",
       " 75.0909090909091,\n",
       " 80.875,\n",
       " 87.6,\n",
       " 80.0,\n",
       " 89.5,\n",
       " 91.0,\n",
       " 88.0,\n",
       " 69.66666666666667,\n",
       " 63.0,\n",
       " 73.0,\n",
       " 59.666666666666664,\n",
       " 49.0,\n",
       " 65.0,\n",
       " 109.5,\n",
       " 113.0,\n",
       " 106.0,\n",
       " 102.0,\n",
       " 108.0,\n",
       " 192.3125,\n",
       " 173.15068493150685,\n",
       " 130.97297297297297,\n",
       " 180.2,\n",
       " 164.28571428571428,\n",
       " 158.8,\n",
       " 162.0,\n",
       " 154.0,\n",
       " 152.0,\n",
       " 156.0,\n",
       " 178.0,\n",
       " 217.33333333333334,\n",
       " 252.0,\n",
       " 200.0,\n",
       " 112.74074074074075,\n",
       " 214.0,\n",
       " 104.64,\n",
       " 96.43478260869566,\n",
       " 82.14285714285714,\n",
       " 106.33333333333333,\n",
       " 124.0,\n",
       " 97.5,\n",
       " 102.0,\n",
       " 93.0,\n",
       " 75.54545454545455,\n",
       " 42.0,\n",
       " 78.9,\n",
       " 86.0,\n",
       " 88.0,\n",
       " 83.0,\n",
       " 71.8,\n",
       " 76.0,\n",
       " 74.0,\n",
       " 78.0,\n",
       " 69.0,\n",
       " 118.66666666666667,\n",
       " 101.2,\n",
       " 110.0,\n",
       " 66.0,\n",
       " 140.5,\n",
       " 91.0,\n",
       " 157.0,\n",
       " 154.0,\n",
       " 163.0,\n",
       " 199.0,\n",
       " 189.0,\n",
       " 209.0,\n",
       " 187.4678899082569,\n",
       " 180.5,\n",
       " 196.82089552238807,\n",
       " 228.47368421052633,\n",
       " 141.0,\n",
       " 233.33333333333334,\n",
       " 258.6,\n",
       " 221.0,\n",
       " 268.0,\n",
       " 260.0,\n",
       " 265.0,\n",
       " 257.5,\n",
       " 257.0,\n",
       " 258.0,\n",
       " 292.0,\n",
       " 223.6153846153846,\n",
       " 265.0,\n",
       " 216.0909090909091,\n",
       " 232.75,\n",
       " 220.0,\n",
       " 237.0,\n",
       " 234.5,\n",
       " 233.0,\n",
       " 236.0,\n",
       " 242.0,\n",
       " 206.57142857142858,\n",
       " 196.0,\n",
       " 197.0,\n",
       " 195.0,\n",
       " 210.8,\n",
       " 206.0,\n",
       " 214.0,\n",
       " 184.29166666666666,\n",
       " 172.70731707317074,\n",
       " 138.28571428571428,\n",
       " 186.0,\n",
       " 174.0,\n",
       " 198.0,\n",
       " 130.33333333333334,\n",
       " 153.66666666666666,\n",
       " 150.0,\n",
       " 161.0,\n",
       " 122.55555555555556,\n",
       " 127.0,\n",
       " 123.0,\n",
       " 130.0,\n",
       " 129.0,\n",
       " 131.0,\n",
       " 107.0,\n",
       " 190.55555555555554,\n",
       " 176.72727272727272,\n",
       " 203.45454545454547,\n",
       " 186.0,\n",
       " 176.75,\n",
       " 178.0,\n",
       " 173.0,\n",
       " 198.33333333333334,\n",
       " 202.0,\n",
       " 196.5,\n",
       " 197.0,\n",
       " 196.0,\n",
       " 234.0,\n",
       " 270.0,\n",
       " 265.0,\n",
       " 275.0,\n",
       " 198.0,\n",
       " 150.0,\n",
       " 132.0,\n",
       " 165.0,\n",
       " 163.0,\n",
       " 166.0,\n",
       " 251.4,\n",
       " 268.3333333333333,\n",
       " 281.0,\n",
       " 262.0,\n",
       " 226.0,\n",
       " 220.0,\n",
       " 232.0,\n",
       " 252.14285714285714,\n",
       " 273.0,\n",
       " 243.8,\n",
       " 248.0,\n",
       " 241.0,\n",
       " 147.36363636363637,\n",
       " 127.11538461538461,\n",
       " 145.30769230769232,\n",
       " 170.16666666666666,\n",
       " 144.0,\n",
       " 175.4,\n",
       " 178.33333333333334,\n",
       " 174.0,\n",
       " 180.5,\n",
       " 181.0,\n",
       " 180.0,\n",
       " 171.0,\n",
       " 124.0,\n",
       " 116.4,\n",
       " 115.0,\n",
       " 122.0,\n",
       " 143.0,\n",
       " 108.92307692307692,\n",
       " 80.16666666666667,\n",
       " 105.5,\n",
       " 116.0,\n",
       " 95.0,\n",
       " 67.5,\n",
       " 67.0,\n",
       " 68.0,\n",
       " 133.57142857142858,\n",
       " 131.0,\n",
       " 137.0,\n",
       " 222.57142857142858,\n",
       " 236.0,\n",
       " 259.5,\n",
       " 272.0,\n",
       " 255.33333333333334,\n",
       " 248.0,\n",
       " 259.0,\n",
       " 189.0,\n",
       " 192.0,\n",
       " 186.0,\n",
       " 142.0,\n",
       " 264.8888888888889,\n",
       " 276.375,\n",
       " 256.0,\n",
       " 244.0,\n",
       " 245.0,\n",
       " 243.0,\n",
       " 264.0,\n",
       " 262.0,\n",
       " 268.0,\n",
       " 310.3333333333333,\n",
       " 317.0,\n",
       " 297.0,\n",
       " 173.0,\n",
       " 285.56666666666666,\n",
       " 316.9375,\n",
       " 333.90909090909093,\n",
       " 281.0,\n",
       " 339.2,\n",
       " 334.6666666666667,\n",
       " 332.0,\n",
       " 336.0,\n",
       " 346.0,\n",
       " 279.6,\n",
       " 281.0,\n",
       " 274.0,\n",
       " 249.71428571428572,\n",
       " 128.0,\n",
       " 259.0769230769231,\n",
       " 268.9,\n",
       " 251.75,\n",
       " 233.0,\n",
       " 258.0,\n",
       " 280.3333333333333,\n",
       " 275.2,\n",
       " 278.0,\n",
       " 279.0,\n",
       " 277.0,\n",
       " 264.0,\n",
       " 306.0,\n",
       " 226.33333333333334,\n",
       " 218.5,\n",
       " 220.0,\n",
       " 217.0,\n",
       " 242.0]"
      ]
     },
     "execution_count": 130,
     "metadata": {},
     "output_type": "execute_result"
    }
   ],
   "source": [
    "# node values from sklearn without HS: \n",
    "node_values_sk = np.concatenate(reg_sklearn.estimators_[0].tree_.value).ravel().tolist()\n",
    "node_values_sk"
   ]
  },
  {
   "cell_type": "code",
   "execution_count": null,
   "id": "076d08b9",
   "metadata": {},
   "outputs": [],
   "source": []
  }
 ],
 "metadata": {
  "kernelspec": {
   "display_name": "Python 3 (ipykernel)",
   "language": "python",
   "name": "python3"
  },
  "language_info": {
   "codemirror_mode": {
    "name": "ipython",
    "version": 3
   },
   "file_extension": ".py",
   "mimetype": "text/x-python",
   "name": "python",
   "nbconvert_exporter": "python",
   "pygments_lexer": "ipython3",
   "version": "3.10.6"
  },
  "toc": {
   "base_numbering": 1,
   "nav_menu": {},
   "number_sections": true,
   "sideBar": true,
   "skip_h1_title": false,
   "title_cell": "Table of Contents",
   "title_sidebar": "Contents",
   "toc_cell": false,
   "toc_position": {},
   "toc_section_display": true,
   "toc_window_display": true
  }
 },
 "nbformat": 4,
 "nbformat_minor": 5
}
