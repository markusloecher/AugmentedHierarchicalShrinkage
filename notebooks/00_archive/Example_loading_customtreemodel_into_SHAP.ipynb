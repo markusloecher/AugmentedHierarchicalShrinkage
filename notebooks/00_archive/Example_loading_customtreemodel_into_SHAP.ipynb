{
 "cells": [
  {
   "cell_type": "markdown",
   "id": "ed3d0822",
   "metadata": {},
   "source": [
    "# Example of loading a custom tree model into SHAP\n",
    "https://shap.readthedocs.io/en/latest/example_notebooks/tabular_examples/tree_based_models/Example%20of%20loading%20a%20custom%20tree%20model%20into%20SHAP.html"
   ]
  },
  {
   "cell_type": "code",
   "execution_count": 1,
   "id": "2fadb786",
   "metadata": {},
   "outputs": [],
   "source": [
    "import numpy as np\n",
    "import scipy\n",
    "import shap\n",
    "import sklearn\n",
    "import graphviz"
   ]
  },
  {
   "cell_type": "markdown",
   "id": "d718e980",
   "metadata": {},
   "source": [
    "## Regression"
   ]
  },
  {
   "cell_type": "code",
   "execution_count": 2,
   "id": "d6bddfdb",
   "metadata": {},
   "outputs": [
    {
     "name": "stderr",
     "output_type": "stream",
     "text": [
      "Function load_boston is deprecated; `load_boston` is deprecated in 1.0 and will be removed in 1.2.\n",
      "\n",
      "    The Boston housing prices dataset has an ethical problem. You can refer to\n",
      "    the documentation of this function for further details.\n",
      "\n",
      "    The scikit-learn maintainers therefore strongly discourage the use of this\n",
      "    dataset unless the purpose of the code is to study and educate about\n",
      "    ethical issues in data science and machine learning.\n",
      "\n",
      "    In this special case, you can fetch the dataset from the original\n",
      "    source::\n",
      "\n",
      "        import pandas as pd\n",
      "        import numpy as np\n",
      "\n",
      "        data_url = \"http://lib.stat.cmu.edu/datasets/boston\"\n",
      "        raw_df = pd.read_csv(data_url, sep=\"\\s+\", skiprows=22, header=None)\n",
      "        data = np.hstack([raw_df.values[::2, :], raw_df.values[1::2, :2]])\n",
      "        target = raw_df.values[1::2, 2]\n",
      "\n",
      "    Alternative datasets include the California housing dataset (i.e.\n",
      "    :func:`~sklearn.datasets.fetch_california_housing`) and the Ames housing\n",
      "    dataset. You can load the datasets as follows::\n",
      "\n",
      "        from sklearn.datasets import fetch_california_housing\n",
      "        housing = fetch_california_housing()\n",
      "\n",
      "    for the California housing dataset and::\n",
      "\n",
      "        from sklearn.datasets import fetch_openml\n",
      "        housing = fetch_openml(name=\"house_prices\", as_frame=True)\n",
      "\n",
      "    for the Ames housing dataset.\n"
     ]
    },
    {
     "data": {
      "text/html": [
       "<style>#sk-container-id-1 {color: black;background-color: white;}#sk-container-id-1 pre{padding: 0;}#sk-container-id-1 div.sk-toggleable {background-color: white;}#sk-container-id-1 label.sk-toggleable__label {cursor: pointer;display: block;width: 100%;margin-bottom: 0;padding: 0.3em;box-sizing: border-box;text-align: center;}#sk-container-id-1 label.sk-toggleable__label-arrow:before {content: \"▸\";float: left;margin-right: 0.25em;color: #696969;}#sk-container-id-1 label.sk-toggleable__label-arrow:hover:before {color: black;}#sk-container-id-1 div.sk-estimator:hover label.sk-toggleable__label-arrow:before {color: black;}#sk-container-id-1 div.sk-toggleable__content {max-height: 0;max-width: 0;overflow: hidden;text-align: left;background-color: #f0f8ff;}#sk-container-id-1 div.sk-toggleable__content pre {margin: 0.2em;color: black;border-radius: 0.25em;background-color: #f0f8ff;}#sk-container-id-1 input.sk-toggleable__control:checked~div.sk-toggleable__content {max-height: 200px;max-width: 100%;overflow: auto;}#sk-container-id-1 input.sk-toggleable__control:checked~label.sk-toggleable__label-arrow:before {content: \"▾\";}#sk-container-id-1 div.sk-estimator input.sk-toggleable__control:checked~label.sk-toggleable__label {background-color: #d4ebff;}#sk-container-id-1 div.sk-label input.sk-toggleable__control:checked~label.sk-toggleable__label {background-color: #d4ebff;}#sk-container-id-1 input.sk-hidden--visually {border: 0;clip: rect(1px 1px 1px 1px);clip: rect(1px, 1px, 1px, 1px);height: 1px;margin: -1px;overflow: hidden;padding: 0;position: absolute;width: 1px;}#sk-container-id-1 div.sk-estimator {font-family: monospace;background-color: #f0f8ff;border: 1px dotted black;border-radius: 0.25em;box-sizing: border-box;margin-bottom: 0.5em;}#sk-container-id-1 div.sk-estimator:hover {background-color: #d4ebff;}#sk-container-id-1 div.sk-parallel-item::after {content: \"\";width: 100%;border-bottom: 1px solid gray;flex-grow: 1;}#sk-container-id-1 div.sk-label:hover label.sk-toggleable__label {background-color: #d4ebff;}#sk-container-id-1 div.sk-serial::before {content: \"\";position: absolute;border-left: 1px solid gray;box-sizing: border-box;top: 0;bottom: 0;left: 50%;z-index: 0;}#sk-container-id-1 div.sk-serial {display: flex;flex-direction: column;align-items: center;background-color: white;padding-right: 0.2em;padding-left: 0.2em;position: relative;}#sk-container-id-1 div.sk-item {position: relative;z-index: 1;}#sk-container-id-1 div.sk-parallel {display: flex;align-items: stretch;justify-content: center;background-color: white;position: relative;}#sk-container-id-1 div.sk-item::before, #sk-container-id-1 div.sk-parallel-item::before {content: \"\";position: absolute;border-left: 1px solid gray;box-sizing: border-box;top: 0;bottom: 0;left: 50%;z-index: -1;}#sk-container-id-1 div.sk-parallel-item {display: flex;flex-direction: column;z-index: 1;position: relative;background-color: white;}#sk-container-id-1 div.sk-parallel-item:first-child::after {align-self: flex-end;width: 50%;}#sk-container-id-1 div.sk-parallel-item:last-child::after {align-self: flex-start;width: 50%;}#sk-container-id-1 div.sk-parallel-item:only-child::after {width: 0;}#sk-container-id-1 div.sk-dashed-wrapped {border: 1px dashed gray;margin: 0 0.4em 0.5em 0.4em;box-sizing: border-box;padding-bottom: 0.4em;background-color: white;}#sk-container-id-1 div.sk-label label {font-family: monospace;font-weight: bold;display: inline-block;line-height: 1.2em;}#sk-container-id-1 div.sk-label-container {text-align: center;}#sk-container-id-1 div.sk-container {/* jupyter's `normalize.less` sets `[hidden] { display: none; }` but bootstrap.min.css set `[hidden] { display: none !important; }` so we also need the `!important` here to be able to override the default hidden behavior on the sphinx rendered scikit-learn.org. See: https://github.com/scikit-learn/scikit-learn/issues/21755 */display: inline-block !important;position: relative;}#sk-container-id-1 div.sk-text-repr-fallback {display: none;}</style><div id=\"sk-container-id-1\" class=\"sk-top-container\"><div class=\"sk-text-repr-fallback\"><pre>DecisionTreeRegressor(max_depth=2)</pre><b>In a Jupyter environment, please rerun this cell to show the HTML representation or trust the notebook. <br />On GitHub, the HTML representation is unable to render, please try loading this page with nbviewer.org.</b></div><div class=\"sk-container\" hidden><div class=\"sk-item\"><div class=\"sk-estimator sk-toggleable\"><input class=\"sk-toggleable__control sk-hidden--visually\" id=\"sk-estimator-id-1\" type=\"checkbox\" checked><label for=\"sk-estimator-id-1\" class=\"sk-toggleable__label sk-toggleable__label-arrow\">DecisionTreeRegressor</label><div class=\"sk-toggleable__content\"><pre>DecisionTreeRegressor(max_depth=2)</pre></div></div></div></div></div>"
      ],
      "text/plain": [
       "DecisionTreeRegressor(max_depth=2)"
      ]
     },
     "execution_count": 2,
     "metadata": {},
     "output_type": "execute_result"
    }
   ],
   "source": [
    "X,y = shap.datasets.boston()\n",
    "\n",
    "orig_model = sklearn.tree.DecisionTreeRegressor(max_depth=2)\n",
    "orig_model.fit(X, y)"
   ]
  },
  {
   "cell_type": "code",
   "execution_count": 3,
   "id": "c6e31b54",
   "metadata": {},
   "outputs": [
    {
     "data": {
      "image/svg+xml": [
       "<?xml version=\"1.0\" encoding=\"UTF-8\" standalone=\"no\"?>\n",
       "<!DOCTYPE svg PUBLIC \"-//W3C//DTD SVG 1.1//EN\"\n",
       " \"http://www.w3.org/Graphics/SVG/1.1/DTD/svg11.dtd\">\n",
       "<!-- Generated by graphviz version 6.0.2 (20221011.1828)\n",
       " -->\n",
       "<!-- Title: Tree Pages: 1 -->\n",
       "<svg width=\"694pt\" height=\"304pt\"\n",
       " viewBox=\"0.00 0.00 694.00 304.00\" xmlns=\"http://www.w3.org/2000/svg\" xmlns:xlink=\"http://www.w3.org/1999/xlink\">\n",
       "<g id=\"graph0\" class=\"graph\" transform=\"scale(1 1) rotate(0) translate(4 300)\">\n",
       "<title>Tree</title>\n",
       "<polygon fill=\"white\" stroke=\"none\" points=\"-4,4 -4,-300 690,-300 690,4 -4,4\"/>\n",
       "<!-- 0 -->\n",
       "<g id=\"node1\" class=\"node\">\n",
       "<title>0</title>\n",
       "<path fill=\"#f8dfcd\" stroke=\"black\" d=\"M406.5,-296C406.5,-296 279.5,-296 279.5,-296 273.5,-296 267.5,-290 267.5,-284 267.5,-284 267.5,-230 267.5,-230 267.5,-224 273.5,-218 279.5,-218 279.5,-218 406.5,-218 406.5,-218 412.5,-218 418.5,-224 418.5,-230 418.5,-230 418.5,-284 418.5,-284 418.5,-290 412.5,-296 406.5,-296\"/>\n",
       "<text text-anchor=\"start\" x=\"318.5\" y=\"-281.8\" font-family=\"Helvetica,sans-Serif\" font-size=\"14.00\">node #0</text>\n",
       "<text text-anchor=\"start\" x=\"310\" y=\"-267.8\" font-family=\"Helvetica,sans-Serif\" font-size=\"14.00\">X</text>\n",
       "<text text-anchor=\"start\" x=\"320\" y=\"-267.8\" font-family=\"Helvetica,sans-Serif\" baseline-shift=\"sub\" font-size=\"14.00\">5</text>\n",
       "<text text-anchor=\"start\" x=\"327\" y=\"-267.8\" font-family=\"Helvetica,sans-Serif\" font-size=\"14.00\"> ≤ 6.941</text>\n",
       "<text text-anchor=\"start\" x=\"275.5\" y=\"-253.8\" font-family=\"Helvetica,sans-Serif\" font-size=\"14.00\">squared_error = 84.42</text>\n",
       "<text text-anchor=\"start\" x=\"298\" y=\"-239.8\" font-family=\"Helvetica,sans-Serif\" font-size=\"14.00\">samples = 506</text>\n",
       "<text text-anchor=\"start\" x=\"298\" y=\"-225.8\" font-family=\"Helvetica,sans-Serif\" font-size=\"14.00\">value = 22.533</text>\n",
       "</g>\n",
       "<!-- 1 -->\n",
       "<g id=\"node2\" class=\"node\">\n",
       "<title>1</title>\n",
       "<path fill=\"#fbeade\" stroke=\"black\" d=\"M322,-182C322,-182 188,-182 188,-182 182,-182 176,-176 176,-170 176,-170 176,-116 176,-116 176,-110 182,-104 188,-104 188,-104 322,-104 322,-104 328,-104 334,-110 334,-116 334,-116 334,-170 334,-170 334,-176 328,-182 322,-182\"/>\n",
       "<text text-anchor=\"start\" x=\"230.5\" y=\"-167.8\" font-family=\"Helvetica,sans-Serif\" font-size=\"14.00\">node #1</text>\n",
       "<text text-anchor=\"start\" x=\"222\" y=\"-153.8\" font-family=\"Helvetica,sans-Serif\" font-size=\"14.00\">X</text>\n",
       "<text text-anchor=\"start\" x=\"232\" y=\"-153.8\" font-family=\"Helvetica,sans-Serif\" baseline-shift=\"sub\" font-size=\"14.00\">12</text>\n",
       "<text text-anchor=\"start\" x=\"246\" y=\"-153.8\" font-family=\"Helvetica,sans-Serif\" font-size=\"14.00\"> ≤ 14.4</text>\n",
       "<text text-anchor=\"start\" x=\"184\" y=\"-139.8\" font-family=\"Helvetica,sans-Serif\" font-size=\"14.00\">squared_error = 40.273</text>\n",
       "<text text-anchor=\"start\" x=\"210\" y=\"-125.8\" font-family=\"Helvetica,sans-Serif\" font-size=\"14.00\">samples = 430</text>\n",
       "<text text-anchor=\"start\" x=\"210\" y=\"-111.8\" font-family=\"Helvetica,sans-Serif\" font-size=\"14.00\">value = 19.934</text>\n",
       "</g>\n",
       "<!-- 0&#45;&gt;1 -->\n",
       "<g id=\"edge1\" class=\"edge\">\n",
       "<title>0&#45;&gt;1</title>\n",
       "<path fill=\"none\" stroke=\"black\" d=\"M312.96,-217.77C305.95,-208.85 298.42,-199.26 291.17,-190.04\"/>\n",
       "<polygon fill=\"black\" stroke=\"black\" points=\"293.83,-187.76 284.9,-182.06 288.33,-192.08 293.83,-187.76\"/>\n",
       "<text text-anchor=\"middle\" x=\"281.92\" y=\"-203.18\" font-family=\"Helvetica,sans-Serif\" font-size=\"14.00\">True</text>\n",
       "</g>\n",
       "<!-- 4 -->\n",
       "<g id=\"node5\" class=\"node\">\n",
       "<title>4</title>\n",
       "<path fill=\"#eca26d\" stroke=\"black\" d=\"M498,-182C498,-182 364,-182 364,-182 358,-182 352,-176 352,-170 352,-170 352,-116 352,-116 352,-110 358,-104 364,-104 364,-104 498,-104 498,-104 504,-104 510,-110 510,-116 510,-116 510,-170 510,-170 510,-176 504,-182 498,-182\"/>\n",
       "<text text-anchor=\"start\" x=\"406.5\" y=\"-167.8\" font-family=\"Helvetica,sans-Serif\" font-size=\"14.00\">node #4</text>\n",
       "<text text-anchor=\"start\" x=\"398\" y=\"-153.8\" font-family=\"Helvetica,sans-Serif\" font-size=\"14.00\">X</text>\n",
       "<text text-anchor=\"start\" x=\"408\" y=\"-153.8\" font-family=\"Helvetica,sans-Serif\" baseline-shift=\"sub\" font-size=\"14.00\">5</text>\n",
       "<text text-anchor=\"start\" x=\"415\" y=\"-153.8\" font-family=\"Helvetica,sans-Serif\" font-size=\"14.00\"> ≤ 7.437</text>\n",
       "<text text-anchor=\"start\" x=\"360\" y=\"-139.8\" font-family=\"Helvetica,sans-Serif\" font-size=\"14.00\">squared_error = 79.729</text>\n",
       "<text text-anchor=\"start\" x=\"390\" y=\"-125.8\" font-family=\"Helvetica,sans-Serif\" font-size=\"14.00\">samples = 76</text>\n",
       "<text text-anchor=\"start\" x=\"386\" y=\"-111.8\" font-family=\"Helvetica,sans-Serif\" font-size=\"14.00\">value = 37.238</text>\n",
       "</g>\n",
       "<!-- 0&#45;&gt;4 -->\n",
       "<g id=\"edge4\" class=\"edge\">\n",
       "<title>0&#45;&gt;4</title>\n",
       "<path fill=\"none\" stroke=\"black\" d=\"M373.04,-217.77C380.05,-208.85 387.58,-199.26 394.83,-190.04\"/>\n",
       "<polygon fill=\"black\" stroke=\"black\" points=\"397.67,-192.08 401.1,-182.06 392.17,-187.76 397.67,-192.08\"/>\n",
       "<text text-anchor=\"middle\" x=\"404.08\" y=\"-203.18\" font-family=\"Helvetica,sans-Serif\" font-size=\"14.00\">False</text>\n",
       "</g>\n",
       "<!-- 2 -->\n",
       "<g id=\"node3\" class=\"node\">\n",
       "<title>2</title>\n",
       "<path fill=\"#f8dcc8\" stroke=\"black\" d=\"M146,-68C146,-68 12,-68 12,-68 6,-68 0,-62 0,-56 0,-56 0,-12 0,-12 0,-6 6,0 12,0 12,0 146,0 146,0 152,0 158,-6 158,-12 158,-12 158,-56 158,-56 158,-62 152,-68 146,-68\"/>\n",
       "<text text-anchor=\"start\" x=\"54.5\" y=\"-52.8\" font-family=\"Helvetica,sans-Serif\" font-size=\"14.00\">node #2</text>\n",
       "<text text-anchor=\"start\" x=\"8\" y=\"-37.8\" font-family=\"Helvetica,sans-Serif\" font-size=\"14.00\">squared_error = 26.009</text>\n",
       "<text text-anchor=\"start\" x=\"34\" y=\"-22.8\" font-family=\"Helvetica,sans-Serif\" font-size=\"14.00\">samples = 255</text>\n",
       "<text text-anchor=\"start\" x=\"38\" y=\"-7.8\" font-family=\"Helvetica,sans-Serif\" font-size=\"14.00\">value = 23.35</text>\n",
       "</g>\n",
       "<!-- 1&#45;&gt;2 -->\n",
       "<g id=\"edge2\" class=\"edge\">\n",
       "<title>1&#45;&gt;2</title>\n",
       "<path fill=\"none\" stroke=\"black\" d=\"M192.45,-103.97C176.2,-94.09 158.67,-83.44 142.37,-73.53\"/>\n",
       "<polygon fill=\"black\" stroke=\"black\" points=\"143.82,-70.31 133.46,-68.11 140.19,-76.3 143.82,-70.31\"/>\n",
       "</g>\n",
       "<!-- 3 -->\n",
       "<g id=\"node4\" class=\"node\">\n",
       "<title>3</title>\n",
       "<path fill=\"#ffffff\" stroke=\"black\" d=\"M322,-68C322,-68 188,-68 188,-68 182,-68 176,-62 176,-56 176,-56 176,-12 176,-12 176,-6 182,0 188,0 188,0 322,0 322,0 328,0 334,-6 334,-12 334,-12 334,-56 334,-56 334,-62 328,-68 322,-68\"/>\n",
       "<text text-anchor=\"start\" x=\"230.5\" y=\"-52.8\" font-family=\"Helvetica,sans-Serif\" font-size=\"14.00\">node #3</text>\n",
       "<text text-anchor=\"start\" x=\"184\" y=\"-37.8\" font-family=\"Helvetica,sans-Serif\" font-size=\"14.00\">squared_error = 19.276</text>\n",
       "<text text-anchor=\"start\" x=\"210\" y=\"-22.8\" font-family=\"Helvetica,sans-Serif\" font-size=\"14.00\">samples = 175</text>\n",
       "<text text-anchor=\"start\" x=\"210\" y=\"-7.8\" font-family=\"Helvetica,sans-Serif\" font-size=\"14.00\">value = 14.956</text>\n",
       "</g>\n",
       "<!-- 1&#45;&gt;3 -->\n",
       "<g id=\"edge3\" class=\"edge\">\n",
       "<title>1&#45;&gt;3</title>\n",
       "<path fill=\"none\" stroke=\"black\" d=\"M255,-103.97C255,-95.69 255,-86.86 255,-78.39\"/>\n",
       "<polygon fill=\"black\" stroke=\"black\" points=\"258.5,-78.28 255,-68.28 251.5,-78.28 258.5,-78.28\"/>\n",
       "</g>\n",
       "<!-- 5 -->\n",
       "<g id=\"node6\" class=\"node\">\n",
       "<title>5</title>\n",
       "<path fill=\"#f0b78e\" stroke=\"black\" d=\"M498,-68C498,-68 364,-68 364,-68 358,-68 352,-62 352,-56 352,-56 352,-12 352,-12 352,-6 358,0 364,0 364,0 498,0 498,0 504,0 510,-6 510,-12 510,-12 510,-56 510,-56 510,-62 504,-68 498,-68\"/>\n",
       "<text text-anchor=\"start\" x=\"406.5\" y=\"-52.8\" font-family=\"Helvetica,sans-Serif\" font-size=\"14.00\">node #5</text>\n",
       "<text text-anchor=\"start\" x=\"360\" y=\"-37.8\" font-family=\"Helvetica,sans-Serif\" font-size=\"14.00\">squared_error = 41.296</text>\n",
       "<text text-anchor=\"start\" x=\"390\" y=\"-22.8\" font-family=\"Helvetica,sans-Serif\" font-size=\"14.00\">samples = 46</text>\n",
       "<text text-anchor=\"start\" x=\"386\" y=\"-7.8\" font-family=\"Helvetica,sans-Serif\" font-size=\"14.00\">value = 32.113</text>\n",
       "</g>\n",
       "<!-- 4&#45;&gt;5 -->\n",
       "<g id=\"edge5\" class=\"edge\">\n",
       "<title>4&#45;&gt;5</title>\n",
       "<path fill=\"none\" stroke=\"black\" d=\"M431,-103.97C431,-95.69 431,-86.86 431,-78.39\"/>\n",
       "<polygon fill=\"black\" stroke=\"black\" points=\"434.5,-78.28 431,-68.28 427.5,-78.28 434.5,-78.28\"/>\n",
       "</g>\n",
       "<!-- 6 -->\n",
       "<g id=\"node7\" class=\"node\">\n",
       "<title>6</title>\n",
       "<path fill=\"#e58139\" stroke=\"black\" d=\"M674,-68C674,-68 540,-68 540,-68 534,-68 528,-62 528,-56 528,-56 528,-12 528,-12 528,-6 534,0 540,0 540,0 674,0 674,0 680,0 686,-6 686,-12 686,-12 686,-56 686,-56 686,-62 680,-68 674,-68\"/>\n",
       "<text text-anchor=\"start\" x=\"582.5\" y=\"-52.8\" font-family=\"Helvetica,sans-Serif\" font-size=\"14.00\">node #6</text>\n",
       "<text text-anchor=\"start\" x=\"536\" y=\"-37.8\" font-family=\"Helvetica,sans-Serif\" font-size=\"14.00\">squared_error = 36.628</text>\n",
       "<text text-anchor=\"start\" x=\"566\" y=\"-22.8\" font-family=\"Helvetica,sans-Serif\" font-size=\"14.00\">samples = 30</text>\n",
       "<text text-anchor=\"start\" x=\"562\" y=\"-7.8\" font-family=\"Helvetica,sans-Serif\" font-size=\"14.00\">value = 45.097</text>\n",
       "</g>\n",
       "<!-- 4&#45;&gt;6 -->\n",
       "<g id=\"edge6\" class=\"edge\">\n",
       "<title>4&#45;&gt;6</title>\n",
       "<path fill=\"none\" stroke=\"black\" d=\"M493.55,-103.97C509.8,-94.09 527.33,-83.44 543.63,-73.53\"/>\n",
       "<polygon fill=\"black\" stroke=\"black\" points=\"545.81,-76.3 552.54,-68.11 542.18,-70.31 545.81,-76.3\"/>\n",
       "</g>\n",
       "</g>\n",
       "</svg>\n"
      ],
      "text/plain": [
       "<graphviz.sources.Source at 0x12b01cd90>"
      ]
     },
     "execution_count": 3,
     "metadata": {},
     "output_type": "execute_result"
    }
   ],
   "source": [
    "dot_data = sklearn.tree.export_graphviz(orig_model, node_ids=True, out_file=None, filled=True, rounded=True, special_characters=True)\n",
    "graph = graphviz.Source(dot_data)\n",
    "graph"
   ]
  },
  {
   "cell_type": "code",
   "execution_count": 48,
   "id": "361bed3e",
   "metadata": {},
   "outputs": [
    {
     "name": "stdout",
     "output_type": "stream",
     "text": [
      "     children_left [ 1  2 -1 -1  5 -1 -1]\n",
      "    children_right [ 4  3 -1 -1  6 -1 -1]\n",
      "  children_default [ 4  3 -1 -1  6 -1 -1]\n",
      "          features [ 5 12 -2 -2  5 -2 -2]\n",
      "        thresholds [ 6.941 14.4   -2.    -2.     7.437 -2.    -2.   ]\n",
      "            values [[22.533]\n",
      " [19.934]\n",
      " [23.35 ]\n",
      " [14.956]\n",
      " [37.238]\n",
      " [32.113]\n",
      " [45.097]]\n",
      "node_sample_weight [506. 430. 255. 175.  76.  46.  30.]\n"
     ]
    }
   ],
   "source": [
    "# extract the arrays that define the tree\n",
    "children_left = orig_model.tree_.children_left\n",
    "children_right = orig_model.tree_.children_right\n",
    "children_default = children_right.copy() # because sklearn does not use missing values\n",
    "features = orig_model.tree_.feature\n",
    "thresholds = orig_model.tree_.threshold\n",
    "values = orig_model.tree_.value.reshape(orig_model.tree_.value.shape[0], 1)\n",
    "node_sample_weight = orig_model.tree_.weighted_n_node_samples\n",
    "\n",
    "print(\"     children_left\", children_left) # note that negative children values mean this is a leaf node\n",
    "print(\"    children_right\", children_right)\n",
    "print(\"  children_default\", children_default)\n",
    "print(\"          features\", features)\n",
    "print(\"        thresholds\", thresholds.round(3))\n",
    "print(\"            values\", values.round(3))\n",
    "print(\"node_sample_weight\", node_sample_weight)"
   ]
  },
  {
   "cell_type": "code",
   "execution_count": 49,
   "id": "1a8a63ba",
   "metadata": {},
   "outputs": [],
   "source": [
    "# define a custom tree model\n",
    "tree_dict = {\n",
    "    \"children_left\": children_left,\n",
    "    \"children_right\": children_right,\n",
    "    \"children_default\": children_default,\n",
    "    \"features\": features,\n",
    "    \"thresholds\": thresholds,\n",
    "    \"values\": values,\n",
    "    \"node_sample_weight\": node_sample_weight\n",
    "}\n",
    "model = {\n",
    "    \"trees\": [tree_dict]\n",
    "}"
   ]
  },
  {
   "cell_type": "code",
   "execution_count": 50,
   "id": "4ea02cce",
   "metadata": {},
   "outputs": [],
   "source": [
    "explainer = shap.TreeExplainer(model)"
   ]
  },
  {
   "cell_type": "code",
   "execution_count": 7,
   "id": "d416c8c0",
   "metadata": {},
   "outputs": [],
   "source": [
    "# Make sure that the ingested SHAP model (a TreeEnsemble object) makes the\n",
    "# same predictions as the original model\n",
    "assert np.abs(explainer.model.predict(X) - orig_model.predict(X)).max() < 1e-4"
   ]
  },
  {
   "cell_type": "code",
   "execution_count": 8,
   "id": "a4af8ea6",
   "metadata": {},
   "outputs": [],
   "source": [
    "# make sure the SHAP values sum up to the model output (this is the local accuracy property)\n",
    "assert np.abs(explainer.expected_value + explainer.shap_values(X).sum(1) - orig_model.predict(X)).max() < 1e-4"
   ]
  },
  {
   "cell_type": "markdown",
   "id": "36286a03",
   "metadata": {},
   "source": [
    "## Classification"
   ]
  },
  {
   "cell_type": "code",
   "execution_count": 65,
   "id": "d547c076",
   "metadata": {},
   "outputs": [
    {
     "data": {
      "text/html": [
       "<style>#sk-container-id-3 {color: black;background-color: white;}#sk-container-id-3 pre{padding: 0;}#sk-container-id-3 div.sk-toggleable {background-color: white;}#sk-container-id-3 label.sk-toggleable__label {cursor: pointer;display: block;width: 100%;margin-bottom: 0;padding: 0.3em;box-sizing: border-box;text-align: center;}#sk-container-id-3 label.sk-toggleable__label-arrow:before {content: \"▸\";float: left;margin-right: 0.25em;color: #696969;}#sk-container-id-3 label.sk-toggleable__label-arrow:hover:before {color: black;}#sk-container-id-3 div.sk-estimator:hover label.sk-toggleable__label-arrow:before {color: black;}#sk-container-id-3 div.sk-toggleable__content {max-height: 0;max-width: 0;overflow: hidden;text-align: left;background-color: #f0f8ff;}#sk-container-id-3 div.sk-toggleable__content pre {margin: 0.2em;color: black;border-radius: 0.25em;background-color: #f0f8ff;}#sk-container-id-3 input.sk-toggleable__control:checked~div.sk-toggleable__content {max-height: 200px;max-width: 100%;overflow: auto;}#sk-container-id-3 input.sk-toggleable__control:checked~label.sk-toggleable__label-arrow:before {content: \"▾\";}#sk-container-id-3 div.sk-estimator input.sk-toggleable__control:checked~label.sk-toggleable__label {background-color: #d4ebff;}#sk-container-id-3 div.sk-label input.sk-toggleable__control:checked~label.sk-toggleable__label {background-color: #d4ebff;}#sk-container-id-3 input.sk-hidden--visually {border: 0;clip: rect(1px 1px 1px 1px);clip: rect(1px, 1px, 1px, 1px);height: 1px;margin: -1px;overflow: hidden;padding: 0;position: absolute;width: 1px;}#sk-container-id-3 div.sk-estimator {font-family: monospace;background-color: #f0f8ff;border: 1px dotted black;border-radius: 0.25em;box-sizing: border-box;margin-bottom: 0.5em;}#sk-container-id-3 div.sk-estimator:hover {background-color: #d4ebff;}#sk-container-id-3 div.sk-parallel-item::after {content: \"\";width: 100%;border-bottom: 1px solid gray;flex-grow: 1;}#sk-container-id-3 div.sk-label:hover label.sk-toggleable__label {background-color: #d4ebff;}#sk-container-id-3 div.sk-serial::before {content: \"\";position: absolute;border-left: 1px solid gray;box-sizing: border-box;top: 0;bottom: 0;left: 50%;z-index: 0;}#sk-container-id-3 div.sk-serial {display: flex;flex-direction: column;align-items: center;background-color: white;padding-right: 0.2em;padding-left: 0.2em;position: relative;}#sk-container-id-3 div.sk-item {position: relative;z-index: 1;}#sk-container-id-3 div.sk-parallel {display: flex;align-items: stretch;justify-content: center;background-color: white;position: relative;}#sk-container-id-3 div.sk-item::before, #sk-container-id-3 div.sk-parallel-item::before {content: \"\";position: absolute;border-left: 1px solid gray;box-sizing: border-box;top: 0;bottom: 0;left: 50%;z-index: -1;}#sk-container-id-3 div.sk-parallel-item {display: flex;flex-direction: column;z-index: 1;position: relative;background-color: white;}#sk-container-id-3 div.sk-parallel-item:first-child::after {align-self: flex-end;width: 50%;}#sk-container-id-3 div.sk-parallel-item:last-child::after {align-self: flex-start;width: 50%;}#sk-container-id-3 div.sk-parallel-item:only-child::after {width: 0;}#sk-container-id-3 div.sk-dashed-wrapped {border: 1px dashed gray;margin: 0 0.4em 0.5em 0.4em;box-sizing: border-box;padding-bottom: 0.4em;background-color: white;}#sk-container-id-3 div.sk-label label {font-family: monospace;font-weight: bold;display: inline-block;line-height: 1.2em;}#sk-container-id-3 div.sk-label-container {text-align: center;}#sk-container-id-3 div.sk-container {/* jupyter's `normalize.less` sets `[hidden] { display: none; }` but bootstrap.min.css set `[hidden] { display: none !important; }` so we also need the `!important` here to be able to override the default hidden behavior on the sphinx rendered scikit-learn.org. See: https://github.com/scikit-learn/scikit-learn/issues/21755 */display: inline-block !important;position: relative;}#sk-container-id-3 div.sk-text-repr-fallback {display: none;}</style><div id=\"sk-container-id-3\" class=\"sk-top-container\"><div class=\"sk-text-repr-fallback\"><pre>DecisionTreeClassifier(max_depth=2, random_state=42)</pre><b>In a Jupyter environment, please rerun this cell to show the HTML representation or trust the notebook. <br />On GitHub, the HTML representation is unable to render, please try loading this page with nbviewer.org.</b></div><div class=\"sk-container\" hidden><div class=\"sk-item\"><div class=\"sk-estimator sk-toggleable\"><input class=\"sk-toggleable__control sk-hidden--visually\" id=\"sk-estimator-id-3\" type=\"checkbox\" checked><label for=\"sk-estimator-id-3\" class=\"sk-toggleable__label sk-toggleable__label-arrow\">DecisionTreeClassifier</label><div class=\"sk-toggleable__content\"><pre>DecisionTreeClassifier(max_depth=2, random_state=42)</pre></div></div></div></div></div>"
      ],
      "text/plain": [
       "DecisionTreeClassifier(max_depth=2, random_state=42)"
      ]
     },
     "execution_count": 65,
     "metadata": {},
     "output_type": "execute_result"
    }
   ],
   "source": [
    "X,y = sklearn.datasets.load_breast_cancer(return_X_y=True, as_frame=True)\n",
    "\n",
    "orig_model_clf = sklearn.tree.DecisionTreeClassifier(max_depth=2, random_state=42)\n",
    "orig_model_clf.fit(X, y)"
   ]
  },
  {
   "cell_type": "code",
   "execution_count": 66,
   "id": "cdad0886",
   "metadata": {},
   "outputs": [
    {
     "data": {
      "image/svg+xml": [
       "<?xml version=\"1.0\" encoding=\"UTF-8\" standalone=\"no\"?>\n",
       "<!DOCTYPE svg PUBLIC \"-//W3C//DTD SVG 1.1//EN\"\n",
       " \"http://www.w3.org/Graphics/SVG/1.1/DTD/svg11.dtd\">\n",
       "<!-- Generated by graphviz version 6.0.2 (20221011.1828)\n",
       " -->\n",
       "<!-- Title: Tree Pages: 1 -->\n",
       "<svg width=\"496pt\" height=\"304pt\"\n",
       " viewBox=\"0.00 0.00 496.00 304.00\" xmlns=\"http://www.w3.org/2000/svg\" xmlns:xlink=\"http://www.w3.org/1999/xlink\">\n",
       "<g id=\"graph0\" class=\"graph\" transform=\"scale(1 1) rotate(0) translate(4 300)\">\n",
       "<title>Tree</title>\n",
       "<polygon fill=\"white\" stroke=\"none\" points=\"-4,4 -4,-300 492,-300 492,4 -4,4\"/>\n",
       "<!-- 0 -->\n",
       "<g id=\"node1\" class=\"node\">\n",
       "<title>0</title>\n",
       "<path fill=\"#afd7f4\" stroke=\"black\" d=\"M296.5,-296C296.5,-296 195.5,-296 195.5,-296 189.5,-296 183.5,-290 183.5,-284 183.5,-284 183.5,-230 183.5,-230 183.5,-224 189.5,-218 195.5,-218 195.5,-218 296.5,-218 296.5,-218 302.5,-218 308.5,-224 308.5,-230 308.5,-230 308.5,-284 308.5,-284 308.5,-290 302.5,-296 296.5,-296\"/>\n",
       "<text text-anchor=\"start\" x=\"221.5\" y=\"-281.8\" font-family=\"Helvetica,sans-Serif\" font-size=\"14.00\">node #0</text>\n",
       "<text text-anchor=\"start\" x=\"205.5\" y=\"-267.8\" font-family=\"Helvetica,sans-Serif\" font-size=\"14.00\">X</text>\n",
       "<text text-anchor=\"start\" x=\"215.5\" y=\"-267.8\" font-family=\"Helvetica,sans-Serif\" baseline-shift=\"sub\" font-size=\"14.00\">20</text>\n",
       "<text text-anchor=\"start\" x=\"229.5\" y=\"-267.8\" font-family=\"Helvetica,sans-Serif\" font-size=\"14.00\"> ≤ 16.795</text>\n",
       "<text text-anchor=\"start\" x=\"210.5\" y=\"-253.8\" font-family=\"Helvetica,sans-Serif\" font-size=\"14.00\">gini = 0.468</text>\n",
       "<text text-anchor=\"start\" x=\"201\" y=\"-239.8\" font-family=\"Helvetica,sans-Serif\" font-size=\"14.00\">samples = 569</text>\n",
       "<text text-anchor=\"start\" x=\"191.5\" y=\"-225.8\" font-family=\"Helvetica,sans-Serif\" font-size=\"14.00\">value = [212, 357]</text>\n",
       "</g>\n",
       "<!-- 1 -->\n",
       "<g id=\"node2\" class=\"node\">\n",
       "<title>1</title>\n",
       "<path fill=\"#4ca6e7\" stroke=\"black\" d=\"M225.5,-182C225.5,-182 132.5,-182 132.5,-182 126.5,-182 120.5,-176 120.5,-170 120.5,-170 120.5,-116 120.5,-116 120.5,-110 126.5,-104 132.5,-104 132.5,-104 225.5,-104 225.5,-104 231.5,-104 237.5,-110 237.5,-116 237.5,-116 237.5,-170 237.5,-170 237.5,-176 231.5,-182 225.5,-182\"/>\n",
       "<text text-anchor=\"start\" x=\"154.5\" y=\"-167.8\" font-family=\"Helvetica,sans-Serif\" font-size=\"14.00\">node #1</text>\n",
       "<text text-anchor=\"start\" x=\"142.5\" y=\"-153.8\" font-family=\"Helvetica,sans-Serif\" font-size=\"14.00\">X</text>\n",
       "<text text-anchor=\"start\" x=\"152.5\" y=\"-153.8\" font-family=\"Helvetica,sans-Serif\" baseline-shift=\"sub\" font-size=\"14.00\">27</text>\n",
       "<text text-anchor=\"start\" x=\"166.5\" y=\"-153.8\" font-family=\"Helvetica,sans-Serif\" font-size=\"14.00\"> ≤ 0.136</text>\n",
       "<text text-anchor=\"start\" x=\"143.5\" y=\"-139.8\" font-family=\"Helvetica,sans-Serif\" font-size=\"14.00\">gini = 0.159</text>\n",
       "<text text-anchor=\"start\" x=\"134\" y=\"-125.8\" font-family=\"Helvetica,sans-Serif\" font-size=\"14.00\">samples = 379</text>\n",
       "<text text-anchor=\"start\" x=\"128.5\" y=\"-111.8\" font-family=\"Helvetica,sans-Serif\" font-size=\"14.00\">value = [33, 346]</text>\n",
       "</g>\n",
       "<!-- 0&#45;&gt;1 -->\n",
       "<g id=\"edge1\" class=\"edge\">\n",
       "<title>0&#45;&gt;1</title>\n",
       "<path fill=\"none\" stroke=\"black\" d=\"M223.13,-217.77C217.96,-209.12 212.4,-199.84 207.04,-190.88\"/>\n",
       "<polygon fill=\"black\" stroke=\"black\" points=\"209.9,-188.84 201.77,-182.06 203.9,-192.44 209.9,-188.84\"/>\n",
       "<text text-anchor=\"middle\" x=\"195.67\" y=\"-202.6\" font-family=\"Helvetica,sans-Serif\" font-size=\"14.00\">True</text>\n",
       "</g>\n",
       "<!-- 4 -->\n",
       "<g id=\"node5\" class=\"node\">\n",
       "<title>4</title>\n",
       "<path fill=\"#e78945\" stroke=\"black\" d=\"M360.5,-182C360.5,-182 267.5,-182 267.5,-182 261.5,-182 255.5,-176 255.5,-170 255.5,-170 255.5,-116 255.5,-116 255.5,-110 261.5,-104 267.5,-104 267.5,-104 360.5,-104 360.5,-104 366.5,-104 372.5,-110 372.5,-116 372.5,-116 372.5,-170 372.5,-170 372.5,-176 366.5,-182 360.5,-182\"/>\n",
       "<text text-anchor=\"start\" x=\"289.5\" y=\"-167.8\" font-family=\"Helvetica,sans-Serif\" font-size=\"14.00\">node #4</text>\n",
       "<text text-anchor=\"start\" x=\"281\" y=\"-153.8\" font-family=\"Helvetica,sans-Serif\" font-size=\"14.00\">X</text>\n",
       "<text text-anchor=\"start\" x=\"291\" y=\"-153.8\" font-family=\"Helvetica,sans-Serif\" baseline-shift=\"sub\" font-size=\"14.00\">1</text>\n",
       "<text text-anchor=\"start\" x=\"298\" y=\"-153.8\" font-family=\"Helvetica,sans-Serif\" font-size=\"14.00\"> ≤ 16.11</text>\n",
       "<text text-anchor=\"start\" x=\"278.5\" y=\"-139.8\" font-family=\"Helvetica,sans-Serif\" font-size=\"14.00\">gini = 0.109</text>\n",
       "<text text-anchor=\"start\" x=\"269\" y=\"-125.8\" font-family=\"Helvetica,sans-Serif\" font-size=\"14.00\">samples = 190</text>\n",
       "<text text-anchor=\"start\" x=\"263.5\" y=\"-111.8\" font-family=\"Helvetica,sans-Serif\" font-size=\"14.00\">value = [179, 11]</text>\n",
       "</g>\n",
       "<!-- 0&#45;&gt;4 -->\n",
       "<g id=\"edge4\" class=\"edge\">\n",
       "<title>0&#45;&gt;4</title>\n",
       "<path fill=\"none\" stroke=\"black\" d=\"M269.21,-217.77C274.46,-209.12 280.1,-199.84 285.54,-190.88\"/>\n",
       "<polygon fill=\"black\" stroke=\"black\" points=\"288.69,-192.42 290.89,-182.06 282.71,-188.79 288.69,-192.42\"/>\n",
       "<text text-anchor=\"middle\" x=\"296.83\" y=\"-202.64\" font-family=\"Helvetica,sans-Serif\" font-size=\"14.00\">False</text>\n",
       "</g>\n",
       "<!-- 2 -->\n",
       "<g id=\"node3\" class=\"node\">\n",
       "<title>2</title>\n",
       "<path fill=\"#3c9ee5\" stroke=\"black\" d=\"M98,-68C98,-68 12,-68 12,-68 6,-68 0,-62 0,-56 0,-56 0,-12 0,-12 0,-6 6,0 12,0 12,0 98,0 98,0 104,0 110,-6 110,-12 110,-12 110,-56 110,-56 110,-62 104,-68 98,-68\"/>\n",
       "<text text-anchor=\"start\" x=\"30.5\" y=\"-52.8\" font-family=\"Helvetica,sans-Serif\" font-size=\"14.00\">node #2</text>\n",
       "<text text-anchor=\"start\" x=\"23\" y=\"-37.8\" font-family=\"Helvetica,sans-Serif\" font-size=\"14.00\">gini = 0.03</text>\n",
       "<text text-anchor=\"start\" x=\"10\" y=\"-22.8\" font-family=\"Helvetica,sans-Serif\" font-size=\"14.00\">samples = 333</text>\n",
       "<text text-anchor=\"start\" x=\"8\" y=\"-7.8\" font-family=\"Helvetica,sans-Serif\" font-size=\"14.00\">value = [5, 328]</text>\n",
       "</g>\n",
       "<!-- 1&#45;&gt;2 -->\n",
       "<g id=\"edge2\" class=\"edge\">\n",
       "<title>1&#45;&gt;2</title>\n",
       "<path fill=\"none\" stroke=\"black\" d=\"M134.93,-103.97C124.07,-94.6 112.39,-84.53 101.42,-75.06\"/>\n",
       "<polygon fill=\"black\" stroke=\"black\" points=\"103.43,-72.17 93.57,-68.28 98.86,-77.47 103.43,-72.17\"/>\n",
       "</g>\n",
       "<!-- 3 -->\n",
       "<g id=\"node4\" class=\"node\">\n",
       "<title>3</title>\n",
       "<path fill=\"#f6d2b8\" stroke=\"black\" d=\"M226,-68C226,-68 140,-68 140,-68 134,-68 128,-62 128,-56 128,-56 128,-12 128,-12 128,-6 134,0 140,0 140,0 226,0 226,0 232,0 238,-6 238,-12 238,-12 238,-56 238,-56 238,-62 232,-68 226,-68\"/>\n",
       "<text text-anchor=\"start\" x=\"158.5\" y=\"-52.8\" font-family=\"Helvetica,sans-Serif\" font-size=\"14.00\">node #3</text>\n",
       "<text text-anchor=\"start\" x=\"147.5\" y=\"-37.8\" font-family=\"Helvetica,sans-Serif\" font-size=\"14.00\">gini = 0.476</text>\n",
       "<text text-anchor=\"start\" x=\"142\" y=\"-22.8\" font-family=\"Helvetica,sans-Serif\" font-size=\"14.00\">samples = 46</text>\n",
       "<text text-anchor=\"start\" x=\"136\" y=\"-7.8\" font-family=\"Helvetica,sans-Serif\" font-size=\"14.00\">value = [28, 18]</text>\n",
       "</g>\n",
       "<!-- 1&#45;&gt;3 -->\n",
       "<g id=\"edge3\" class=\"edge\">\n",
       "<title>1&#45;&gt;3</title>\n",
       "<path fill=\"none\" stroke=\"black\" d=\"M180.42,-103.97C180.73,-95.69 181.06,-86.86 181.38,-78.39\"/>\n",
       "<polygon fill=\"black\" stroke=\"black\" points=\"184.88,-78.41 181.76,-68.28 177.88,-78.15 184.88,-78.41\"/>\n",
       "</g>\n",
       "<!-- 5 -->\n",
       "<g id=\"node6\" class=\"node\">\n",
       "<title>5</title>\n",
       "<path fill=\"#e9f4fc\" stroke=\"black\" d=\"M348,-68C348,-68 274,-68 274,-68 268,-68 262,-62 262,-56 262,-56 262,-12 262,-12 262,-6 268,0 274,0 274,0 348,0 348,0 354,0 360,-6 360,-12 360,-12 360,-56 360,-56 360,-62 354,-68 348,-68\"/>\n",
       "<text text-anchor=\"start\" x=\"286.5\" y=\"-52.8\" font-family=\"Helvetica,sans-Serif\" font-size=\"14.00\">node #5</text>\n",
       "<text text-anchor=\"start\" x=\"275.5\" y=\"-37.8\" font-family=\"Helvetica,sans-Serif\" font-size=\"14.00\">gini = 0.498</text>\n",
       "<text text-anchor=\"start\" x=\"270\" y=\"-22.8\" font-family=\"Helvetica,sans-Serif\" font-size=\"14.00\">samples = 17</text>\n",
       "<text text-anchor=\"start\" x=\"271.5\" y=\"-7.8\" font-family=\"Helvetica,sans-Serif\" font-size=\"14.00\">value = [8, 9]</text>\n",
       "</g>\n",
       "<!-- 4&#45;&gt;5 -->\n",
       "<g id=\"edge5\" class=\"edge\">\n",
       "<title>4&#45;&gt;5</title>\n",
       "<path fill=\"none\" stroke=\"black\" d=\"M312.93,-103.97C312.7,-95.69 312.45,-86.86 312.22,-78.39\"/>\n",
       "<polygon fill=\"black\" stroke=\"black\" points=\"315.71,-78.18 311.93,-68.28 308.71,-78.38 315.71,-78.18\"/>\n",
       "</g>\n",
       "<!-- 6 -->\n",
       "<g id=\"node7\" class=\"node\">\n",
       "<title>6</title>\n",
       "<path fill=\"#e5823b\" stroke=\"black\" d=\"M476,-68C476,-68 390,-68 390,-68 384,-68 378,-62 378,-56 378,-56 378,-12 378,-12 378,-6 384,0 390,0 390,0 476,0 476,0 482,0 488,-6 488,-12 488,-12 488,-56 488,-56 488,-62 482,-68 476,-68\"/>\n",
       "<text text-anchor=\"start\" x=\"408.5\" y=\"-52.8\" font-family=\"Helvetica,sans-Serif\" font-size=\"14.00\">node #6</text>\n",
       "<text text-anchor=\"start\" x=\"397.5\" y=\"-37.8\" font-family=\"Helvetica,sans-Serif\" font-size=\"14.00\">gini = 0.023</text>\n",
       "<text text-anchor=\"start\" x=\"388\" y=\"-22.8\" font-family=\"Helvetica,sans-Serif\" font-size=\"14.00\">samples = 173</text>\n",
       "<text text-anchor=\"start\" x=\"386\" y=\"-7.8\" font-family=\"Helvetica,sans-Serif\" font-size=\"14.00\">value = [171, 2]</text>\n",
       "</g>\n",
       "<!-- 4&#45;&gt;6 -->\n",
       "<g id=\"edge6\" class=\"edge\">\n",
       "<title>4&#45;&gt;6</title>\n",
       "<path fill=\"none\" stroke=\"black\" d=\"M356.29,-103.97C366.72,-94.6 377.92,-84.53 388.45,-75.06\"/>\n",
       "<polygon fill=\"black\" stroke=\"black\" points=\"390.89,-77.57 395.98,-68.28 386.21,-72.37 390.89,-77.57\"/>\n",
       "</g>\n",
       "</g>\n",
       "</svg>\n"
      ],
      "text/plain": [
       "<graphviz.sources.Source at 0x1323767a0>"
      ]
     },
     "execution_count": 66,
     "metadata": {},
     "output_type": "execute_result"
    }
   ],
   "source": [
    "dot_data = sklearn.tree.export_graphviz(orig_model_clf, node_ids=True, out_file=None, filled=True, rounded=True, special_characters=True)\n",
    "graph = graphviz.Source(dot_data)\n",
    "graph"
   ]
  },
  {
   "cell_type": "code",
   "execution_count": 67,
   "id": "c95aeea2",
   "metadata": {},
   "outputs": [
    {
     "name": "stdout",
     "output_type": "stream",
     "text": [
      "     children_left [ 1  2 -1 -1  5 -1 -1]\n",
      "    children_right [ 4  3 -1 -1  6 -1 -1]\n",
      "  children_default [ 4  3 -1 -1  6 -1 -1]\n",
      "          features [20 27 -2 -2  1 -2 -2]\n",
      "        thresholds [16.795  0.136 -2.    -2.    16.11  -2.    -2.   ]\n",
      "            values [[1]\n",
      " [1]\n",
      " [1]\n",
      " [0]\n",
      " [0]\n",
      " [1]\n",
      " [0]]\n",
      "node_sample_weight [569. 379. 333.  46. 190.  17. 173.]\n"
     ]
    }
   ],
   "source": [
    "# extract the arrays that define the tree\n",
    "children_left = orig_model_clf.tree_.children_left\n",
    "children_right = orig_model_clf.tree_.children_right\n",
    "children_default = children_right.copy() # because sklearn does not use missing values\n",
    "features = orig_model_clf.tree_.feature\n",
    "thresholds = orig_model_clf.tree_.threshold\n",
    "#values = orig_model_clf.tree_.value.reshape(orig_model_clf.tree_.value.shape[0], orig_model_clf.tree_.n_classes[0])\n",
    "values = np.argmax(orig_model_clf.tree_.value.reshape(orig_model_clf.tree_.value.shape[0], orig_model_clf.tree_.n_classes[0]),axis=1).reshape(orig_model_clf.tree_.value.shape[0], 1)\n",
    "node_sample_weight = orig_model_clf.tree_.weighted_n_node_samples\n",
    "\n",
    "print(\"     children_left\", children_left) # note that negative children values mean this is a leaf node\n",
    "print(\"    children_right\", children_right)\n",
    "print(\"  children_default\", children_default)\n",
    "print(\"          features\", features)\n",
    "print(\"        thresholds\", thresholds.round(3))\n",
    "print(\"            values\", values.round(3))\n",
    "print(\"node_sample_weight\", node_sample_weight)"
   ]
  },
  {
   "cell_type": "code",
   "execution_count": 68,
   "id": "a4d42d13",
   "metadata": {},
   "outputs": [],
   "source": [
    "# define a custom tree model\n",
    "tree_dict = {\n",
    "    \"children_left\": children_left,\n",
    "    \"children_right\": children_right,\n",
    "    \"children_default\": children_default,\n",
    "    \"features\": features,\n",
    "    \"thresholds\": thresholds,\n",
    "    \"values\": values,\n",
    "    \"node_sample_weight\": node_sample_weight\n",
    "}\n",
    "model = {\n",
    "    \"trees\": [tree_dict]\n",
    "}"
   ]
  },
  {
   "cell_type": "code",
   "execution_count": 69,
   "id": "b5fa1b10",
   "metadata": {},
   "outputs": [
    {
     "data": {
      "text/plain": [
       "{'trees': [{'children_left': array([ 1,  2, -1, -1,  5, -1, -1], dtype=int64),\n",
       "   'children_right': array([ 4,  3, -1, -1,  6, -1, -1], dtype=int64),\n",
       "   'children_default': array([ 4,  3, -1, -1,  6, -1, -1], dtype=int64),\n",
       "   'features': array([20, 27, -2, -2,  1, -2, -2], dtype=int64),\n",
       "   'thresholds': array([16.79500008,  0.1358    , -2.        , -2.        , 16.10999966,\n",
       "          -2.        , -2.        ]),\n",
       "   'values': array([[1],\n",
       "          [1],\n",
       "          [1],\n",
       "          [0],\n",
       "          [0],\n",
       "          [1],\n",
       "          [0]]),\n",
       "   'node_sample_weight': array([569., 379., 333.,  46., 190.,  17., 173.])}]}"
      ]
     },
     "execution_count": 69,
     "metadata": {},
     "output_type": "execute_result"
    }
   ],
   "source": [
    "model"
   ]
  },
  {
   "cell_type": "code",
   "execution_count": 70,
   "id": "c54c7f49",
   "metadata": {},
   "outputs": [],
   "source": [
    "explainer_clf = shap.TreeExplainer(model)"
   ]
  },
  {
   "cell_type": "code",
   "execution_count": 71,
   "id": "6eaa4b3d",
   "metadata": {},
   "outputs": [],
   "source": [
    "shaps_sk = explainer.shap_values(X)"
   ]
  },
  {
   "cell_type": "code",
   "execution_count": 72,
   "id": "9fac3673",
   "metadata": {},
   "outputs": [
    {
     "data": {
      "text/plain": [
       "array([1., 0., 0.])"
      ]
     },
     "execution_count": 72,
     "metadata": {},
     "output_type": "execute_result"
    }
   ],
   "source": [
    "explainer_clf.model.predict(X)[:3]"
   ]
  },
  {
   "cell_type": "code",
   "execution_count": 73,
   "id": "c2006bee",
   "metadata": {},
   "outputs": [],
   "source": [
    "# Make sure that the ingested SHAP model (a TreeEnsemble object) makes the\n",
    "# same predictions as the original model\n",
    "assert np.abs(explainer_clf.model.predict(X) - orig_model_clf.predict(X)).max() < 1e-4"
   ]
  },
  {
   "cell_type": "code",
   "execution_count": 74,
   "id": "cc4aab40",
   "metadata": {},
   "outputs": [],
   "source": [
    "# make sure the SHAP values sum up to the model output (this is the local accuracy property)\n",
    "assert np.abs(explainer_clf.expected_value + explainer_clf.shap_values(X).sum(1) - orig_model_clf.predict(X)).max() < 1e-4"
   ]
  },
  {
   "cell_type": "markdown",
   "id": "9edd417c",
   "metadata": {},
   "source": [
    "### Classification with probabilities"
   ]
  },
  {
   "cell_type": "code",
   "execution_count": 75,
   "id": "cc2637dc",
   "metadata": {},
   "outputs": [
    {
     "name": "stdout",
     "output_type": "stream",
     "text": [
      "            values [[212. 357.]\n",
      " [ 33. 346.]\n",
      " [  5. 328.]\n",
      " [ 28.  18.]\n",
      " [179.  11.]\n",
      " [  8.   9.]\n",
      " [171.   2.]]\n"
     ]
    }
   ],
   "source": [
    "values = orig_model_clf.tree_.value.reshape(orig_model_clf.tree_.value.shape[0], orig_model_clf.tree_.n_classes[0]).reshape(orig_model_clf.tree_.value.shape[0], 2)\n",
    "print(\"            values\", values.round(3))"
   ]
  },
  {
   "cell_type": "code",
   "execution_count": 76,
   "id": "088323bd",
   "metadata": {},
   "outputs": [
    {
     "data": {
      "text/plain": [
       "array([[212., 357.],\n",
       "       [ 33., 346.],\n",
       "       [  5., 328.],\n",
       "       [ 28.,  18.],\n",
       "       [179.,  11.],\n",
       "       [  8.,   9.],\n",
       "       [171.,   2.]])"
      ]
     },
     "execution_count": 76,
     "metadata": {},
     "output_type": "execute_result"
    }
   ],
   "source": [
    "orig_model_clf.tree_.value.reshape(orig_model_clf.tree_.value.shape[0], orig_model_clf.tree_.n_classes[0]).reshape(orig_model_clf.tree_.value.shape[0], 2)"
   ]
  },
  {
   "cell_type": "code",
   "execution_count": 106,
   "id": "a99e23dd",
   "metadata": {},
   "outputs": [],
   "source": [
    "from shap.explainers._tree import SingleTree"
   ]
  },
  {
   "cell_type": "code",
   "execution_count": 109,
   "id": "55a70565",
   "metadata": {},
   "outputs": [],
   "source": [
    "# define a custom tree model\n",
    "tree_dict = {\n",
    "    \"children_left\": children_left,\n",
    "    \"children_right\": children_right,\n",
    "    \"children_default\": children_default,\n",
    "    \"features\": features,\n",
    "    \"thresholds\": thresholds,\n",
    "    \"values\": values,\n",
    "    \"node_sample_weight\": node_sample_weight\n",
    "}\n",
    "model = {\n",
    "    \"trees\": [tree_dict],\n",
    "    \"objective\": \"binary_crossentropy\",\n",
    "    \"tree_output\": \"probability\",\n",
    "    \"input_dtype\": np.float32,  # this is what type the model uses the input feature data\n",
    "    \"internal_dtype\": np.float64  # this is what type the model uses for values and thresholds\n",
    "}"
   ]
  },
  {
   "cell_type": "code",
   "execution_count": 110,
   "id": "b4f114f0",
   "metadata": {},
   "outputs": [
    {
     "data": {
      "text/plain": [
       "array([[  8.,   9.],\n",
       "       [171.,   2.],\n",
       "       [171.,   2.]])"
      ]
     },
     "execution_count": 110,
     "metadata": {},
     "output_type": "execute_result"
    }
   ],
   "source": [
    "explainer_clf = shap.TreeExplainer(model, X, model_output=\"probability\")\n",
    "explainer_clf.model.predict(X)[:3]"
   ]
  },
  {
   "cell_type": "code",
   "execution_count": 85,
   "id": "d4f800ba",
   "metadata": {},
   "outputs": [],
   "source": [
    "arr = explainer_clf.model.predict(X)[:3]"
   ]
  },
  {
   "cell_type": "code",
   "execution_count": 97,
   "id": "9a25cbf8",
   "metadata": {},
   "outputs": [],
   "source": [
    "normalized_vector = np.divide(arr,np.array([np.sum(arr, axis=1),np.sum(arr, axis=1)]).T)"
   ]
  },
  {
   "cell_type": "code",
   "execution_count": 98,
   "id": "ae6ee163",
   "metadata": {},
   "outputs": [
    {
     "data": {
      "text/plain": [
       "array([[0.47058824, 0.52941176],\n",
       "       [0.98843931, 0.01156069],\n",
       "       [0.98843931, 0.01156069]])"
      ]
     },
     "execution_count": 98,
     "metadata": {},
     "output_type": "execute_result"
    }
   ],
   "source": [
    "normalized_vector"
   ]
  },
  {
   "cell_type": "code",
   "execution_count": 99,
   "id": "2e69b044",
   "metadata": {},
   "outputs": [
    {
     "data": {
      "text/plain": [
       "array([[0.47058824, 0.52941176],\n",
       "       [0.98843931, 0.01156069],\n",
       "       [0.98843931, 0.01156069]])"
      ]
     },
     "execution_count": 99,
     "metadata": {},
     "output_type": "execute_result"
    }
   ],
   "source": [
    "orig_model_clf.predict_proba(X)[:3]"
   ]
  },
  {
   "cell_type": "code",
   "execution_count": 79,
   "id": "66f96e0d",
   "metadata": {},
   "outputs": [
    {
     "data": {
      "text/plain": [
       "array([1, 0, 0])"
      ]
     },
     "execution_count": 79,
     "metadata": {},
     "output_type": "execute_result"
    }
   ],
   "source": [
    "np.argmax(explainer_clf.model.predict(X)[:3],axis=1)"
   ]
  },
  {
   "cell_type": "code",
   "execution_count": 47,
   "id": "b721ed50",
   "metadata": {},
   "outputs": [],
   "source": [
    "shaps = explainer_clf.shap_values(X)[1]"
   ]
  },
  {
   "cell_type": "code",
   "execution_count": 81,
   "id": "634c0533",
   "metadata": {},
   "outputs": [],
   "source": [
    "assert shaps_sk.all() == shaps.all()"
   ]
  },
  {
   "cell_type": "code",
   "execution_count": null,
   "id": "8729e74e",
   "metadata": {},
   "outputs": [],
   "source": []
  },
  {
   "cell_type": "code",
   "execution_count": 84,
   "id": "dba4e330",
   "metadata": {},
   "outputs": [],
   "source": [
    "# Make sure that the ingested SHAP model (a TreeEnsemble object) makes the\n",
    "# same predictions as the original model\n",
    "#assert np.abs(explainer_clf.model.predict(X) - orig_model_clf.predict(X)).max() < 1e-4\n",
    "\n",
    "# make sure the SHAP values sum up to the model output (this is the local accuracy property)\n",
    "#assert np.abs(explainer_clf.expected_value + explainer_clf.shap_values(X).sum(1) - orig_model_clf.predict(X)).max() < 1e-4"
   ]
  },
  {
   "cell_type": "code",
   "execution_count": null,
   "id": "8a1b9cb3",
   "metadata": {},
   "outputs": [],
   "source": []
  }
 ],
 "metadata": {
  "kernelspec": {
   "display_name": "Python 3 (ipykernel)",
   "language": "python",
   "name": "python3"
  },
  "language_info": {
   "codemirror_mode": {
    "name": "ipython",
    "version": 3
   },
   "file_extension": ".py",
   "mimetype": "text/x-python",
   "name": "python",
   "nbconvert_exporter": "python",
   "pygments_lexer": "ipython3",
   "version": "3.10.6"
  },
  "toc": {
   "base_numbering": 1,
   "nav_menu": {},
   "number_sections": true,
   "sideBar": true,
   "skip_h1_title": false,
   "title_cell": "Table of Contents",
   "title_sidebar": "Contents",
   "toc_cell": false,
   "toc_position": {},
   "toc_section_display": true,
   "toc_window_display": true
  }
 },
 "nbformat": 4,
 "nbformat_minor": 5
}
