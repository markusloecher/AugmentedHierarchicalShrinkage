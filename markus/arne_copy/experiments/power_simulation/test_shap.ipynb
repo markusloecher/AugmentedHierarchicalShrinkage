{
 "cells": [
  {
   "cell_type": "code",
   "execution_count": 1,
   "metadata": {},
   "outputs": [
    {
     "name": "stderr",
     "output_type": "stream",
     "text": [
      "/home/markusloecher/research/XAI/AugmentedHierarchicalShrinkage/venv/lib/python3.9/site-packages/tqdm/auto.py:21: TqdmWarning: IProgress not found. Please update jupyter and ipywidgets. See https://ipywidgets.readthedocs.io/en/stable/user_install.html\n",
      "  from .autonotebook import tqdm as notebook_tqdm\n"
     ]
    }
   ],
   "source": [
    "from StroblSimFuns import *\n",
    "\n",
    "lambdas = [1.0, 10.0]\n",
    "relevance = 0.2\n",
    "shrink_modes = [\"hs_entropy\"]\n",
    "n_replications = 1\n",
    "clf_type=\"rf\"\n",
    "n_samples=100\n",
    "max_depth = 10\n",
    "\n",
    "if clf_type == \"rf\":\n",
    "    hsc = ShrinkageClassifier(RandomForestClassifier(max_depth=max_depth))\n",
    "elif clf_type == \"dt\":\n",
    "    hsc = ShrinkageClassifier(DecisionTreeClassifier(max_depth=max_depth))\n",
    "\n",
    "param_grid = {\"shrink_mode\": [shrink_modes[0]], \"lmb\": lambdas}"
   ]
  },
  {
   "cell_type": "code",
   "execution_count": 2,
   "metadata": {},
   "outputs": [
    {
     "name": "stderr",
     "output_type": "stream",
     "text": [
      "/home/markusloecher/research/XAI/AugmentedHierarchicalShrinkage/venv/lib/python3.9/site-packages/tqdm/auto.py:21: TqdmWarning: IProgress not found. Please update jupyter and ipywidgets. See https://ipywidgets.readthedocs.io/en/stable/user_install.html\n",
      "  from .autonotebook import tqdm as notebook_tqdm\n"
     ]
    }
   ],
   "source": [
    "#!pip install shap\n",
    "#!pip install numba\n",
    "from StroblSimFuns import *"
   ]
  },
  {
   "cell_type": "code",
   "execution_count": 3,
   "metadata": {},
   "outputs": [],
   "source": [
    "X, y = simulate_Strobl(n_samples, relevance)\n",
    "X_test, y_test = simulate_Strobl(n_samples, relevance)"
   ]
  },
  {
   "cell_type": "code",
   "execution_count": 6,
   "metadata": {},
   "outputs": [
    {
     "data": {
      "text/plain": [
       "array([ 4.28181535, 17.73525773,  2.71316474,  3.27682935,  3.23443401])"
      ]
     },
     "execution_count": 6,
     "metadata": {},
     "output_type": "execute_result"
    }
   ],
   "source": [
    "hsc = ShrinkageClassifier(RandomForestClassifier(max_depth=10), \n",
    "                          lmb=5, shrink_mode= \"hs\")\n",
    "hsc.fit(X,y)\n",
    "generate_SHAP(X, X_test, hsc.estimator_)"
   ]
  },
  {
   "cell_type": "code",
   "execution_count": 5,
   "metadata": {},
   "outputs": [],
   "source": [
    "lmb_scores = cross_val_shrinkage(\n",
    "                hsc, X, y, param_grid, n_splits=5, score_fn = \"AUC\", \n",
    "                n_jobs=1, return_param_values=False)"
   ]
  },
  {
   "cell_type": "code",
   "execution_count": 7,
   "metadata": {},
   "outputs": [],
   "source": [
    "best_idx = np.argmax(lmb_scores)\n",
    "best_lmb = lambdas[best_idx]\n",
    "best_lmb\n",
    "hsc.set_shrink_params(shrink_mode=shrink_modes[0], lmb=best_lmb)"
   ]
  },
  {
   "cell_type": "code",
   "execution_count": 8,
   "metadata": {},
   "outputs": [],
   "source": [
    "explainer = TreeExplainer(hsc.estimator_, X)\n",
    "shap_values = np.array(explainer.shap_values(X_test))\n"
   ]
  },
  {
   "cell_type": "code",
   "execution_count": 9,
   "metadata": {},
   "outputs": [
    {
     "data": {
      "text/plain": [
       "(2, 100, 5)"
      ]
     },
     "execution_count": 9,
     "metadata": {},
     "output_type": "execute_result"
    }
   ],
   "source": [
    "shap_values.shape"
   ]
  },
  {
   "cell_type": "code",
   "execution_count": 11,
   "metadata": {},
   "outputs": [
    {
     "data": {
      "text/plain": [
       "array([ 2.33440967, 11.2550403 ,  1.84290559,  2.40542419,  2.87266079])"
      ]
     },
     "execution_count": 11,
     "metadata": {},
     "output_type": "execute_result"
    }
   ],
   "source": [
    "np.sum(np.abs(shap_values[0,:,:]),axis=0)"
   ]
  },
  {
   "cell_type": "code",
   "execution_count": 7,
   "metadata": {},
   "outputs": [],
   "source": [
    "scores = joblib.load(\"output-2023-05-03-21-49/scores.pkl\")\n",
    "pars = joblib.load(\"output-2023-05-03-21-49/params.pkl\")\n",
    "bestlambdas = joblib.load(\"output-2023-05-03-21-49/bestlambdas.pkl\")"
   ]
  },
  {
   "cell_type": "code",
   "execution_count": 22,
   "metadata": {},
   "outputs": [
    {
     "data": {
      "text/plain": [
       "[0.0, 0.1, 0.2]"
      ]
     },
     "execution_count": 22,
     "metadata": {},
     "output_type": "execute_result"
    }
   ],
   "source": [
    "relevances_str = list(scores.keys())\n",
    "relevances_str\n",
    "relevances = [float(i)/100 for i in relevances_str]\n",
    "relevances"
   ]
  },
  {
   "cell_type": "code",
   "execution_count": 25,
   "metadata": {},
   "outputs": [
    {
     "data": {
      "text/plain": [
       "45"
      ]
     },
     "execution_count": 25,
     "metadata": {},
     "output_type": "execute_result"
    }
   ],
   "source": [
    "d = scores['00'][\"hs\"].shape\n",
    "d[0]"
   ]
  },
  {
   "cell_type": "code",
   "execution_count": 23,
   "metadata": {},
   "outputs": [
    {
     "data": {
      "text/plain": [
       "['00', '10', '20']"
      ]
     },
     "execution_count": 23,
     "metadata": {},
     "output_type": "execute_result"
    }
   ],
   "source": [
    "[\"{:.2f}\".format(rel)[2:] for rel in relevances]"
   ]
  },
  {
   "cell_type": "code",
   "execution_count": 15,
   "metadata": {},
   "outputs": [
    {
     "data": {
      "text/plain": [
       "['hs', 'hs_entropy', 'hs_log_cardinality', 'hs_global_entropy']"
      ]
     },
     "execution_count": 15,
     "metadata": {},
     "output_type": "execute_result"
    }
   ],
   "source": [
    "list(scores['00'].keys())"
   ]
  }
 ],
 "metadata": {
  "kernelspec": {
   "display_name": "aug_hs_env",
   "language": "python",
   "name": "python3"
  },
  "language_info": {
   "codemirror_mode": {
    "name": "ipython",
    "version": 3
   },
   "file_extension": ".py",
   "mimetype": "text/x-python",
   "name": "python",
   "nbconvert_exporter": "python",
   "pygments_lexer": "ipython3",
   "version": "3.9.0"
  },
  "orig_nbformat": 4
 },
 "nbformat": 4,
 "nbformat_minor": 2
}
